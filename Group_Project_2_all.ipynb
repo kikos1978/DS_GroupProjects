{
  "nbformat": 4,
  "nbformat_minor": 0,
  "metadata": {
    "colab": {
      "name": "Групповое дз-2.ipynb to share",
      "provenance": [],
      "collapsed_sections": [
        "qV5y81T6Nd-3",
        "Z-Qr-139NkOQ",
        "qMBG9SZ8NqNw",
        "dQJSL3DoNvMX",
        "oJInBy9HNz1w",
        "gYN9FEgIN5Ug",
        "bk6wJkozN-f7",
        "eK6YVD7tOR75",
        "eTB9u0eCOeH1",
        "Q6M3JKRXOsMr",
        "75HWO88dPAfs",
        "AO92XvDszzog",
        "rkqNaT0yK5aj",
        "5j-9y0wNz-PV"
      ]
    },
    "kernelspec": {
      "name": "python3",
      "display_name": "Python 3"
    },
    "language_info": {
      "name": "python"
    },
    "accelerator": "GPU"
  },
  "cells": [
    {
      "cell_type": "markdown",
      "source": [
        "# Импорты, создание датафреймов"
      ],
      "metadata": {
        "id": "9b2HJaGx0NOf"
      }
    },
    {
      "cell_type": "code",
      "source": [
        "#Install Kagle \n",
        "!pip install --upgrade --force-reinstall --no-deps kaggle"
      ],
      "metadata": {
        "id": "qfZg5FJxvPNb"
      },
      "execution_count": null,
      "outputs": []
    },
    {
      "cell_type": "code",
      "source": [
        "#Kagle connect\n",
        "from google.colab import files\n",
        "\n",
        "uploaded = files.upload()\n",
        "\n",
        "for fn in uploaded.keys():\n",
        "  print('User uploaded file \"{name}\" with length {length} bytes'.format(\n",
        "      name=fn, length=len(uploaded[fn])))\n",
        "  \n",
        "# Then move kaggle.json into the folder where the API expects to find it.\n",
        "!mkdir -p ~/.kaggle/ && mv kaggle.json ~/.kaggle/ && chmod 600 ~/.kaggle/kaggle.json"
      ],
      "metadata": {
        "colab": {
          "resources": {
            "http://localhost:8080/nbextensions/google.colab/files.js": {
              "data": "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",
              "ok": true,
              "headers": [
                [
                  "content-type",
                  "application/javascript"
                ]
              ],
              "status": 200,
              "status_text": ""
            }
          },
          "base_uri": "https://localhost:8080/",
          "height": 90
        },
        "id": "SOeysBPYvRcv",
        "outputId": "2a73cb38-7965-4d26-fb50-dccfea314343"
      },
      "execution_count": null,
      "outputs": [
        {
          "output_type": "display_data",
          "data": {
            "text/html": [
              "\n",
              "     <input type=\"file\" id=\"files-18cef103-b96d-4e77-90a0-1fcb730231af\" name=\"files[]\" multiple disabled\n",
              "        style=\"border:none\" />\n",
              "     <output id=\"result-18cef103-b96d-4e77-90a0-1fcb730231af\">\n",
              "      Upload widget is only available when the cell has been executed in the\n",
              "      current browser session. Please rerun this cell to enable.\n",
              "      </output>\n",
              "      <script src=\"/nbextensions/google.colab/files.js\"></script> "
            ],
            "text/plain": [
              "<IPython.core.display.HTML object>"
            ]
          },
          "metadata": {}
        },
        {
          "output_type": "stream",
          "name": "stdout",
          "text": [
            "Saving kaggle.json to kaggle.json\n",
            "User uploaded file \"kaggle.json\" with length 66 bytes\n"
          ]
        }
      ]
    },
    {
      "cell_type": "code",
      "source": [
        "#Download from Kagle\n",
        "!kaggle competitions download -c champs-scalar-coupling -p kaggle/"
      ],
      "metadata": {
        "colab": {
          "base_uri": "https://localhost:8080/"
        },
        "id": "OhMD9vcSvcIB",
        "outputId": "7500e958-9011-4a99-b50b-dddfd3a0f37a"
      },
      "execution_count": null,
      "outputs": [
        {
          "output_type": "stream",
          "name": "stdout",
          "text": [
            "Downloading champs-scalar-coupling.zip to kaggle\n",
            " 99% 374M/377M [00:03<00:00, 53.2MB/s]\n",
            "100% 377M/377M [00:03<00:00, 99.0MB/s]\n"
          ]
        }
      ]
    },
    {
      "cell_type": "code",
      "source": [
        "%%capture\n",
        "# хорошая команда, скрывает аутпут.\n",
        "!unzip kaggle/champs-scalar-coupling.zip -d kaggle/"
      ],
      "metadata": {
        "id": "8GkuMDBgvekH"
      },
      "execution_count": null,
      "outputs": []
    },
    {
      "cell_type": "code",
      "source": [
        "import numpy as np\n",
        "import pandas as pd\n",
        "import matplotlib.pyplot as plt\n",
        "import seaborn as sns"
      ],
      "metadata": {
        "id": "u9nqJUY28M2e"
      },
      "execution_count": null,
      "outputs": []
    },
    {
      "cell_type": "code",
      "source": [
        "# https://drive.google.com/file/d/1eLQEG8gSmd961qD43cisUTGjAaxCxV19/view?usp=sharing  Molecules_data.zip\n",
        "# https://drive.google.com/file/d/1TePC-54op7w_t69jERTTs5MUj4yNZOat/view?usp=sharing  test_path.csv\n",
        "# https://drive.google.com/file/d/1JzY1TIRnbSAMXT3cuRExZjifwZCx5pqv/view?usp=sharing  train_path.csv\n",
        "\n",
        "import subprocess\n",
        "\n",
        "\n",
        "def download_file_from_gdrive(gdrive_file_id: str, outfile: str) -> None:\n",
        "    \"\"\" Скачивает файл из Google Drive по ID \"\"\"\n",
        "\n",
        "    upload_cmd = (\n",
        "        \"wget --load-cookies /tmp/cookies.txt\"\n",
        "        \" \\\"https://docs.google.com/uc?export=download&confirm=$(\"\n",
        "        \" wget --quiet --save-cookies /tmp/cookies.txt --keep-session-cookies\"\n",
        "        \" --no-check-certificate 'https://docs.google.com/uc?export=download\"\n",
        "        f\"&id={gdrive_file_id}'\"\n",
        "        \" -O- | sed -rn 's/.*confirm=([0-9A-Za-z_]+).*/\\\\1\\\\n/p')\"\n",
        "        f\"&id={gdrive_file_id}\\\" \"\n",
        "        f\" -O {outfile} && rm -rf /tmp/cookies.txt\"\n",
        "    )\n",
        "    subprocess.check_call(upload_cmd, shell=True)\n",
        "\n",
        "download_file_from_gdrive('1eLQEG8gSmd961qD43cisUTGjAaxCxV19', 'Molecules_data.zip')\n",
        "download_file_from_gdrive('1TePC-54op7w_t69jERTTs5MUj4yNZOat', 'test_path.csv')\n",
        "download_file_from_gdrive('1JzY1TIRnbSAMXT3cuRExZjifwZCx5pqv', 'train_path.csv')"
      ],
      "metadata": {
        "id": "87KOQ8GSbIcR"
      },
      "execution_count": null,
      "outputs": []
    },
    {
      "cell_type": "code",
      "source": [
        "!unzip -j Molecules_data.zip"
      ],
      "metadata": {
        "colab": {
          "base_uri": "https://localhost:8080/"
        },
        "id": "mwnhQjHaj2pS",
        "outputId": "fb552839-7241-4693-b55e-864eff224b2f"
      },
      "execution_count": null,
      "outputs": [
        {
          "output_type": "stream",
          "name": "stdout",
          "text": [
            "Archive:  Molecules_data.zip\n",
            " extracting: dipole_moments.csv      \n",
            " extracting: magnetic_shielding_tensors.csv  \n",
            " extracting: mulliken_charges.csv    \n",
            " extracting: potential_energy.csv    \n",
            " extracting: sample_submission.csv   \n",
            " extracting: scalar_coupling_contributions.csv  \n",
            " extracting: structures.csv          \n",
            " extracting: structures.zip          \n",
            " extracting: test.csv                \n",
            " extracting: train.csv               \n"
          ]
        }
      ]
    },
    {
      "cell_type": "code",
      "source": [
        "%%capture\n",
        "!unzip structures.zip -d structures/"
      ],
      "metadata": {
        "id": "h2fKTAG_doBv"
      },
      "execution_count": null,
      "outputs": []
    },
    {
      "cell_type": "code",
      "source": [
        "df_train = pd.read_csv('train.csv', index_col=0)\n",
        "df_test = pd.read_csv('test.csv', index_col=0)\n",
        "# этих данных всё равно нет для test, только если графики порисовать какие-то\n",
        "# df_dipole_moments = pd.read_csv('dipole_moments.csv')\n",
        "# df_magnetic_shielding_tensors = pd.read_csv('magnetic_shielding_tensors.csv')\n",
        "# df_mulliken_charges = pd.read_csv('mulliken_charges.csv')\n",
        "# df_potential_energy = pd.read_csv('potential_energy.csv')\n",
        "# df_scalar_coupling_contributions = pd.read_csv('scalar_coupling_contributions.csv')\n",
        "df_structures = pd.read_csv('structures.csv')\n",
        "train_path = pd.read_csv('train_path.csv', index_col=0) # посчитаны долгие фичи\n",
        "test_path = pd.read_csv('test_path.csv', index_col=0) # посчитаны долгие фичи"
      ],
      "metadata": {
        "colab": {
          "base_uri": "https://localhost:8080/"
        },
        "outputId": "c97bad0e-bad1-4b3f-cbef-0cc730be32e7",
        "id": "jvTTIvt9VRRc"
      },
      "execution_count": null,
      "outputs": [
        {
          "output_type": "stream",
          "name": "stderr",
          "text": [
            "/usr/local/lib/python3.7/dist-packages/numpy/lib/arraysetops.py:580: FutureWarning: elementwise comparison failed; returning scalar instead, but in the future will perform elementwise comparison\n",
            "  mask |= (ar1 == a)\n"
          ]
        }
      ]
    },
    {
      "cell_type": "code",
      "source": [
        "# df_train.shape, df_test.shape, df_dipole_moments.shape, df_magnetic_shielding_tensors.shape, df_mulliken_charges.shape, df_potential_energy.shape, df_scalar_coupling_contributions.shape, df_structures.shape, train_path.shape, test_path.shape"
      ],
      "metadata": {
        "id": "IGhB9UyFtlqJ"
      },
      "execution_count": null,
      "outputs": []
    },
    {
      "cell_type": "code",
      "source": [
        "#Гланем на распределение \"таргета\"\n",
        "print('Min Value of Target : {}'.format(df_train['scalar_coupling_constant'].min()))\n",
        "print('Max Value of Target : {}'.format(df_train['scalar_coupling_constant'].max()))\n",
        "\n",
        "plt.figure(figsize=(11, 5))\n",
        "sns.distplot(df_train['scalar_coupling_constant'])\n",
        "plt.title('Distribution of scalar_coupling_constant')\n",
        "plt.show()"
      ],
      "metadata": {
        "colab": {
          "base_uri": "https://localhost:8080/",
          "height": 440
        },
        "id": "RdDolC3gEEmY",
        "outputId": "3a8d5fae-5329-4ecf-834c-4c9b89ff1bb8"
      },
      "execution_count": null,
      "outputs": [
        {
          "output_type": "stream",
          "name": "stdout",
          "text": [
            "Min Value of Target : -36.2186\n",
            "Max Value of Target : 204.88\n"
          ]
        },
        {
          "output_type": "stream",
          "name": "stderr",
          "text": [
            "/usr/local/lib/python3.7/dist-packages/seaborn/distributions.py:2619: FutureWarning: `distplot` is a deprecated function and will be removed in a future version. Please adapt your code to use either `displot` (a figure-level function with similar flexibility) or `histplot` (an axes-level function for histograms).\n",
            "  warnings.warn(msg, FutureWarning)\n"
          ]
        },
        {
          "output_type": "display_data",
          "data": {
            "image/png": "[encoded data removed]",
            "text/plain": [
              "<Figure size 792x360 with 1 Axes>"
            ]
          },
          "metadata": {
            "needs_background": "light"
          }
        }
      ]
    },
    {
      "cell_type": "code",
      "source": [
        "#Посмотрим как распределены значения по типам связей в обучающей выборке\n",
        "colors = ['cyan', 'blue', 'magenta', 'yellow', 'lawngreen', 'red', 'green', 'orange']\n",
        "plt.figure(figsize=(20, 20))\n",
        "for i, t in enumerate(df_train['type'].unique()):\n",
        "    plt.subplot(3,3, i+1)\n",
        "    sns.distplot(df_train[df_train['type'] == t]['scalar_coupling_constant'], color = colors[i])\n",
        "    #plt.title('Distribution of coupling constant by type '+ t)\n",
        "    plt.tight_layout()\n",
        "plt.show()"
      ],
      "metadata": {
        "colab": {
          "base_uri": "https://localhost:8080/",
          "height": 1000
        },
        "id": "FFIueiQKETHA",
        "outputId": "7691e611-5f3b-44b9-bae5-8fd66cefde41"
      },
      "execution_count": null,
      "outputs": [
        {
          "output_type": "stream",
          "name": "stderr",
          "text": [
            "/usr/local/lib/python3.7/dist-packages/seaborn/distributions.py:2619: FutureWarning: `distplot` is a deprecated function and will be removed in a future version. Please adapt your code to use either `displot` (a figure-level function with similar flexibility) or `histplot` (an axes-level function for histograms).\n",
            "  warnings.warn(msg, FutureWarning)\n",
            "/usr/local/lib/python3.7/dist-packages/seaborn/distributions.py:2619: FutureWarning: `distplot` is a deprecated function and will be removed in a future version. Please adapt your code to use either `displot` (a figure-level function with similar flexibility) or `histplot` (an axes-level function for histograms).\n",
            "  warnings.warn(msg, FutureWarning)\n",
            "/usr/local/lib/python3.7/dist-packages/seaborn/distributions.py:2619: FutureWarning: `distplot` is a deprecated function and will be removed in a future version. Please adapt your code to use either `displot` (a figure-level function with similar flexibility) or `histplot` (an axes-level function for histograms).\n",
            "  warnings.warn(msg, FutureWarning)\n",
            "/usr/local/lib/python3.7/dist-packages/seaborn/distributions.py:2619: FutureWarning: `distplot` is a deprecated function and will be removed in a future version. Please adapt your code to use either `displot` (a figure-level function with similar flexibility) or `histplot` (an axes-level function for histograms).\n",
            "  warnings.warn(msg, FutureWarning)\n",
            "/usr/local/lib/python3.7/dist-packages/seaborn/distributions.py:2619: FutureWarning: `distplot` is a deprecated function and will be removed in a future version. Please adapt your code to use either `displot` (a figure-level function with similar flexibility) or `histplot` (an axes-level function for histograms).\n",
            "  warnings.warn(msg, FutureWarning)\n",
            "/usr/local/lib/python3.7/dist-packages/seaborn/distributions.py:2619: FutureWarning: `distplot` is a deprecated function and will be removed in a future version. Please adapt your code to use either `displot` (a figure-level function with similar flexibility) or `histplot` (an axes-level function for histograms).\n",
            "  warnings.warn(msg, FutureWarning)\n",
            "/usr/local/lib/python3.7/dist-packages/seaborn/distributions.py:2619: FutureWarning: `distplot` is a deprecated function and will be removed in a future version. Please adapt your code to use either `displot` (a figure-level function with similar flexibility) or `histplot` (an axes-level function for histograms).\n",
            "  warnings.warn(msg, FutureWarning)\n",
            "/usr/local/lib/python3.7/dist-packages/seaborn/distributions.py:2619: FutureWarning: `distplot` is a deprecated function and will be removed in a future version. Please adapt your code to use either `displot` (a figure-level function with similar flexibility) or `histplot` (an axes-level function for histograms).\n",
            "  warnings.warn(msg, FutureWarning)\n"
          ]
        },
        {
          "output_type": "display_data",
          "data": {
            "image/png": "[encoded data removed]",
            "text/plain": [
              "<Figure size 1440x1440 with 8 Axes>"
            ]
          },
          "metadata": {
            "needs_background": "light"
          }
        }
      ]
    },
    {
      "cell_type": "markdown",
      "source": [
        "# Подготовка датесета"
      ],
      "metadata": {
        "id": "wgPrZsxyM343"
      }
    },
    {
      "cell_type": "markdown",
      "source": [
        "## Объявим процедуры для создания датасета"
      ],
      "metadata": {
        "id": "MCimJQ00NFMX"
      }
    },
    {
      "cell_type": "code",
      "source": [
        "# Декоратор для отображения прогресса изменения датасета\n",
        "def PrintChangings(foo):\n",
        "  def warapper(*args):\n",
        "    tr = args[0]\n",
        "    ts = args[1]\n",
        "    f_name = foo.__name__ \n",
        "    print('--------------BEFORE MERGING IN {}-------------------------'.format(f_name))\n",
        "    print('Train set len:',len(tr.index), 'columns:', len(tr.columns))\n",
        "    print('Test set len:',len(ts.index), 'columns:', len(ts.columns))\n",
        "    tr, ts = foo(*args) # Сама функция\n",
        "    print('--------------AFTER MERGING IN {}-------------------------'.format(f_name))\n",
        "    print('Train set len:',len(tr.index), 'columns:', len(tr.columns))\n",
        "    print('Test set len:',len(ts.index), 'columns:', len(ts.columns))\n",
        "    return tr, ts\n",
        "  return warapper"
      ],
      "metadata": {
        "id": "oGeX3b-uNQmB"
      },
      "execution_count": null,
      "outputs": []
    },
    {
      "cell_type": "markdown",
      "source": [
        "### Объединяем данные с dipole moments"
      ],
      "metadata": {
        "id": "qV5y81T6Nd-3"
      }
    },
    {
      "cell_type": "code",
      "source": [
        "# Объединяем данные с dipole moments\n",
        "\n",
        "@PrintChangings\n",
        "def MergeTrainTestWithDipoleMoments(train, test, dipole_moments):\n",
        "  train = pd.merge(train.assign(x=train.molecule_name.astype(str)), dipole_moments.assign(x=dipole_moments.molecule_name.astype(str)),how='inner', on='x', suffixes=(\"_train\", '_dipole_moments'))\n",
        "  train.drop(['x','molecule_name_dipole_moments'], axis=1, inplace= True)\n",
        "  train.rename(columns={\"molecule_name_train\": \"molecule_name\"}, inplace = True)\n",
        "  train.rename(columns={\"X\": \"X_dm\",\"Y\": \"Y_dm\",\"Z\": \"Z_dm\"}, inplace = True)\n",
        "\n",
        "  test = pd.merge(test.assign(x=test.molecule_name.astype(str)), dipole_moments.assign(x=dipole_moments.molecule_name.astype(str)),how='inner', on='x', suffixes=(\"_test\", '_dipole_moments'))\n",
        "  test.drop(['x','molecule_name_dipole_moments'], axis=1, inplace= True)\n",
        "  test.rename(columns={\"molecule_name_test\": \"molecule_name\"}, inplace = True)\n",
        "  test.rename(columns={\"X\": \"X_dm\",\"Y\": \"Y_dm\",\"Z\": \"Z_dm\"}, inplace = True)\n",
        "  \n",
        "  del dipole_moments\n",
        "  return train, test"
      ],
      "metadata": {
        "id": "fLWke4VKNYPQ"
      },
      "execution_count": null,
      "outputs": []
    },
    {
      "cell_type": "markdown",
      "source": [
        "### Объединяем данные с magnetic shielding tensors"
      ],
      "metadata": {
        "id": "Z-Qr-139NkOQ"
      }
    },
    {
      "cell_type": "code",
      "source": [
        "@PrintChangings\n",
        "def MergeTrainTestWithMagneticShielding(train, test, magnetic_shielding):\n",
        "  train = pd.merge(train, magnetic_shielding, left_on=['molecule_name','atom_index_0'], right_on = ['molecule_name','atom_index'],how='inner',suffixes=(\"_train\", '_magnetic_shielding'))\n",
        "  train.drop(['atom_index'], axis=1, inplace= True)\n",
        "  train.rename(columns={\"XX\":\"XX_ms_atom0\", \"YX\":\"YX_ms_atom0\",\t\"ZX\":\"ZX_ms_atom0\",\t\"XY\":\"XY_ms_atom0\",\t\"YY\":\"YY_ms_atom0\",\t\"ZY\":\"ZY_ms_atom0\",\t\"XZ\":\"XZ_ms_atom0\",\t\"YZ\":\"YZ_ms_atom0\",\t\"ZZ\":\"ZZ_ms_atom0\"}, inplace = True)\n",
        "\n",
        "  train = pd.merge(train, magnetic_shielding, left_on=['molecule_name','atom_index_1'], right_on = ['molecule_name','atom_index'],how='inner',suffixes=(\"_train\", '_magnetic_shielding'))\n",
        "  train.drop(['atom_index'], axis=1, inplace= True)\n",
        "  train.rename(columns={\"XX\":\"XX_ms_atom1\", \"YX\":\"YX_ms_atom1\",\t\"ZX\":\"ZX_ms_atom1\",\t\"XY\":\"XY_ms_atom1\",\t\"YY\":\"YY_ms_atom1\",\t\"ZY\":\"ZY_ms_atom1\",\t\"XZ\":\"XZ_ms_atom1\",\t\"YZ\":\"YZ_ms_atom1\",\t\"ZZ\":\"ZZ_ms_atom1\"}, inplace = True)\n",
        "\n",
        "\n",
        "  test = pd.merge(test, magnetic_shielding, left_on=['molecule_name','atom_index_0'], right_on = ['molecule_name','atom_index'],how='inner',suffixes=(\"_test\", '_magnetic_shielding'))\n",
        "  test.drop(['atom_index'], axis=1, inplace= True)\n",
        "  test.rename(columns={\"XX\":\"XX_ms_atom0\", \"YX\":\"YX_ms_atom0\",\t\"ZX\":\"ZX_ms_atom0\",\t\"XY\":\"XY_ms_atom0\",\t\"YY\":\"YY_ms_atom0\",\t\"ZY\":\"ZY_ms_atom0\",\t\"XZ\":\"XZ_ms_atom0\",\t\"YZ\":\"YZ_ms_atom0\",\t\"ZZ\":\"ZZ_ms_atom0\"}, inplace = True)\n",
        "\n",
        "  test = pd.merge(test, magnetic_shielding, left_on=['molecule_name','atom_index_1'], right_on = ['molecule_name','atom_index'],how='inner',suffixes=(\"_test\", '_magnetic_shielding'))\n",
        "  test.drop(['atom_index'], axis=1, inplace= True)\n",
        "  test.rename(columns={\"XX\":\"XX_ms_atom1\", \"YX\":\"YX_ms_atom1\",\t\"ZX\":\"ZX_ms_atom1\",\t\"XY\":\"XY_ms_atom1\",\t\"YY\":\"YY_ms_atom1\",\t\"ZY\":\"ZY_ms_atom1\",\t\"XZ\":\"XZ_ms_atom1\",\t\"YZ\":\"YZ_ms_atom1\",\t\"ZZ\":\"ZZ_ms_atom1\"}, inplace = True)\n",
        "\n",
        "  del magnetic_shielding\n",
        "  return train, test"
      ],
      "metadata": {
        "id": "fDQn0xoLNneB"
      },
      "execution_count": null,
      "outputs": []
    },
    {
      "cell_type": "markdown",
      "source": [
        "### Объединяем данные с mulliken charges"
      ],
      "metadata": {
        "id": "qMBG9SZ8NqNw"
      }
    },
    {
      "cell_type": "code",
      "source": [
        "@PrintChangings\n",
        "def MergeTrainTestWithMullikenCharges(train, test, mulliken_charges):\n",
        "  train = pd.merge(train, mulliken_charges, left_on=['molecule_name','atom_index_0'], right_on = ['molecule_name','atom_index'],how='inner',suffixes=(\"_train\", '_mulliken_charges'))\n",
        "  train.drop(['atom_index'], axis=1, inplace= True)\n",
        "  train.rename(columns={\"mulliken_charge\": \"mcharge_atom0\"}, inplace = True)\n",
        "\n",
        "  test = pd.merge(test, mulliken_charges, left_on=['molecule_name','atom_index_0'], right_on = ['molecule_name','atom_index'],how='inner',suffixes=(\"_test\", '_mulliken_charges'))\n",
        "  test.drop(['atom_index'], axis=1, inplace= True)\n",
        "  test.rename(columns={\"mulliken_charge\": \"mcharge_atom0\"}, inplace = True)\n",
        "\n",
        "\n",
        "  train = pd.merge(train, mulliken_charges, left_on=['molecule_name','atom_index_1'], right_on = ['molecule_name','atom_index'],how='inner',suffixes=(\"_train\", '_mulliken_charges'))\n",
        "  train.drop(['atom_index'], axis=1, inplace= True)\n",
        "  train.rename(columns={\"mulliken_charge\": \"mcharge_atom1\"}, inplace = True)\n",
        "\n",
        "  test = pd.merge(test, mulliken_charges, left_on=['molecule_name','atom_index_1'], right_on = ['molecule_name','atom_index'],how='inner',suffixes=(\"_test\", '_mulliken_charges'))\n",
        "  test.drop(['atom_index'], axis=1, inplace= True)\n",
        "  test.rename(columns={\"mulliken_charge\": \"mcharge_atom1\"}, inplace = True)\n",
        "\n",
        "  del mulliken_charges\n",
        "  return train, test"
      ],
      "metadata": {
        "id": "vN4DPcNlNsjx"
      },
      "execution_count": null,
      "outputs": []
    },
    {
      "cell_type": "markdown",
      "source": [
        "### Объединяем данные с potential_energy"
      ],
      "metadata": {
        "id": "dQJSL3DoNvMX"
      }
    },
    {
      "cell_type": "code",
      "source": [
        "@PrintChangings\n",
        "def MergeTrainTestWithPotentialEnergy(train, test, potential_energy):\n",
        "  train = pd.merge(train.assign(x=train.molecule_name.astype(str)), potential_energy.assign(x=potential_energy.molecule_name.astype(str)),how='inner', on='x', suffixes=(\"_train\", '_potential_energy'))\n",
        "  train.drop(['x','molecule_name_potential_energy'], axis=1, inplace= True)\n",
        "  train.rename(columns={\"molecule_name_train\": \"molecule_name\"}, inplace = True)\n",
        "\n",
        "  test = pd.merge(test.assign(x=test.molecule_name.astype(str)), potential_energy.assign(x=potential_energy.molecule_name.astype(str)),how='inner', on='x', suffixes=(\"_test\", '_potential_energy'))\n",
        "  test.drop(['x','molecule_name_potential_energy'], axis=1, inplace= True)\n",
        "  test.rename(columns={\"molecule_name_test\": \"molecule_name\"}, inplace = True)\n",
        "\n",
        "  del potential_energy\n",
        "  return train, test"
      ],
      "metadata": {
        "id": "Wkl70pOsNx0g"
      },
      "execution_count": null,
      "outputs": []
    },
    {
      "cell_type": "markdown",
      "source": [
        "### Объединяем данные с structures"
      ],
      "metadata": {
        "id": "oJInBy9HNz1w"
      }
    },
    {
      "cell_type": "code",
      "source": [
        "def MergeTrainTestWithStructures(train, test, structures):\n",
        "  train = pd.merge(train, structures, left_on=['molecule_name','atom_index_0'], right_on = ['molecule_name','atom_index'],how='inner',suffixes=(\"_train\", '_structures'))\n",
        "  train.drop(['atom_index'], axis=1, inplace= True)\n",
        "  train.rename(columns={\"atom\":\"atom0\", \"x\":\"struct_x_atom0\", \"y\":\"struct_y_atom0\", \"z\":\"struct_z_atom0\"}, inplace = True)\n",
        "\n",
        "  test = pd.merge(test, structures, left_on=['molecule_name','atom_index_0'], right_on = ['molecule_name','atom_index'],how='inner',suffixes=(\"_test\", '_structures'))\n",
        "  test.drop(['atom_index'], axis=1, inplace= True)\n",
        "  test.rename(columns={\"atom\":\"atom0\", \"x\":\"struct_x_atom0\", \"y\":\"struct_y_atom0\", \"z\":\"struct_z_atom0\"}, inplace = True)\n",
        "\n",
        "  train = pd.merge(train, structures, left_on=['molecule_name','atom_index_1'], right_on = ['molecule_name','atom_index'],how='inner',suffixes=(\"_train\", '_structures'))\n",
        "  train.drop(['atom_index'], axis=1, inplace= True)\n",
        "  train.rename(columns={\"atom\":\"atom1\", \"x\":\"struct_x_atom1\", \"y\":\"struct_y_atom1\", \"z\":\"struct_z_atom1\"}, inplace = True)\n",
        "\n",
        "  test = pd.merge(test, structures, left_on=['molecule_name','atom_index_1'], right_on = ['molecule_name','atom_index'],how='inner',suffixes=(\"_test\", '_structures'))\n",
        "  test.drop(['atom_index'], axis=1, inplace= True)\n",
        "  test.rename(columns={\"atom\":\"atom1\", \"x\":\"struct_x_atom1\", \"y\":\"struct_y_atom1\", \"z\":\"struct_z_atom1\"}, inplace = True)\n",
        "\n",
        "  del structures\n",
        "  return train, test"
      ],
      "metadata": {
        "id": "eW3JWGH5N3nZ"
      },
      "execution_count": null,
      "outputs": []
    },
    {
      "cell_type": "markdown",
      "source": [
        "### Добавим расстояния между атомами связи"
      ],
      "metadata": {
        "id": "gYN9FEgIN5Ug"
      }
    },
    {
      "cell_type": "code",
      "source": [
        "@PrintChangings\n",
        "def AddDistanceBetweenAtomsinCoupling(train, test):\n",
        "  train['struct_dist'] = ((train['struct_x_atom1'] - train['struct_x_atom0'])**2 + (train['struct_y_atom1'] - train['struct_y_atom0'])**2 + (train['struct_z_atom1'] - train['struct_z_atom0'])**2)** (0.5)\n",
        "  test['struct_dist'] = ((test['struct_x_atom1'] - test['struct_x_atom0'])**2 + (test['struct_y_atom1'] - test['struct_y_atom0'])**2 + (test['struct_z_atom1'] - test['struct_z_atom0'])**2)** (0.5)\n",
        "  return train, test"
      ],
      "metadata": {
        "id": "0hVbODEKN8iJ"
      },
      "execution_count": null,
      "outputs": []
    },
    {
      "cell_type": "markdown",
      "source": [
        "### Добавим общее количество связей в молекуле"
      ],
      "metadata": {
        "id": "bk6wJkozN-f7"
      }
    },
    {
      "cell_type": "code",
      "source": [
        "@PrintChangings\n",
        "def FullCountCouplingsPerMolekula(train, test):\n",
        "  cnt = train.groupby(['molecule_name']).size().reset_index(name='CouplingCnt')\n",
        "  train = pd.merge(train.assign(x=train.molecule_name.astype(str)), cnt.assign(x=cnt.molecule_name.astype(str)),how='inner', on='x', suffixes=(\"_train\", '_coupling_cnt'))\n",
        "  train.drop(['x','molecule_name_coupling_cnt'], axis=1, inplace= True)\n",
        "  train.rename(columns={\"molecule_name_train\": \"molecule_name\"}, inplace = True)\n",
        "\n",
        "  cnt = test.groupby(['molecule_name']).size().reset_index(name='CouplingCnt')\n",
        "  test = pd.merge(test.assign(x=test.molecule_name.astype(str)), cnt.assign(x=cnt.molecule_name.astype(str)),how='inner', on='x', suffixes=(\"_test\", '_coupling_cnt'))\n",
        "  test.drop(['x','molecule_name_coupling_cnt'], axis=1, inplace= True)\n",
        "  test.rename(columns={\"molecule_name_test\": \"molecule_name\"}, inplace = True)\n",
        "\n",
        "  del cnt\n",
        "  return train, test"
      ],
      "metadata": {
        "id": "4Xkdcg9LOJkh"
      },
      "execution_count": null,
      "outputs": []
    },
    {
      "cell_type": "markdown",
      "source": [
        "### Добавим общее количество связей у одного атома в одной конкретной молекуле"
      ],
      "metadata": {
        "id": "eK6YVD7tOR75"
      }
    },
    {
      "cell_type": "code",
      "source": [
        "@PrintChangings\n",
        "def FullCountCouplingsPerMolekulaAtom(train, test):\n",
        "  cnt1 = train.groupby(['molecule_name','atom_index_0']).size().reset_index(name='coupling_cnt')\n",
        "  cnt1.rename(columns={\"atom_index_0\": \"atom_index\"}, inplace = True)\n",
        "  cnt2 = train.groupby(['molecule_name','atom_index_1']).size().reset_index(name='coupling_cnt')\n",
        "  cnt2.rename(columns={\"atom_index_1\": \"atom_index\"}, inplace = True)\n",
        "  mid_df = pd.concat([cnt1, cnt2])\n",
        "  cnt = mid_df.groupby(['molecule_name','atom_index'], as_index=False)['coupling_cnt'].sum()\n",
        "\n",
        "\n",
        "  train = pd.merge(train, cnt, left_on=['molecule_name','atom_index_0'], right_on = ['molecule_name','atom_index'],how='inner', suffixes=(\"_train\", '_coupling_cnt'))\n",
        "  train.drop(['atom_index'], axis=1, inplace= True)\n",
        "  train.rename(columns={\"coupling_cnt\": \"atom0_coupling_cnt\"}, inplace = True)\n",
        "  train = pd.merge(train, cnt, left_on=['molecule_name','atom_index_1'], right_on = ['molecule_name','atom_index'],how='inner', suffixes=(\"_train\", '_coupling_cnt'))\n",
        "  train.drop(['atom_index'], axis=1, inplace= True)\n",
        "  train.rename(columns={\"coupling_cnt\": \"atom1_coupling_cnt\"}, inplace = True)\n",
        "\n",
        "  cnt1 = test.groupby(['molecule_name','atom_index_0']).size().reset_index(name='coupling_cnt')\n",
        "  cnt1.rename(columns={\"atom_index_0\": \"atom_index\"}, inplace = True)\n",
        "  cnt2 = test.groupby(['molecule_name','atom_index_1']).size().reset_index(name='coupling_cnt')\n",
        "  cnt2.rename(columns={\"atom_index_1\": \"atom_index\"}, inplace = True)\n",
        "  mid_df = pd.concat([cnt1, cnt2])\n",
        "  cnt = mid_df.groupby(['molecule_name','atom_index'], as_index=False)['coupling_cnt'].sum()\n",
        "\n",
        "  test = pd.merge(test, cnt, left_on=['molecule_name','atom_index_0'], right_on = ['molecule_name','atom_index'],how='inner', suffixes=(\"_test\", '_coupling_cnt'))\n",
        "  test.drop(['atom_index'], axis=1, inplace= True)\n",
        "  test.rename(columns={\"coupling_cnt\": \"atom0_coupling_cnt\"}, inplace = True)\n",
        "  test = pd.merge(test, cnt, left_on=['molecule_name','atom_index_1'], right_on = ['molecule_name','atom_index'],how='inner', suffixes=(\"_test\", '_coupling_cnt'))\n",
        "  test.drop(['atom_index'], axis=1, inplace= True)\n",
        "  test.rename(columns={\"coupling_cnt\": \"atom1_coupling_cnt\"}, inplace = True)\n",
        "\n",
        "  del cnt\n",
        "  return train, test"
      ],
      "metadata": {
        "id": "260xguQsObHU"
      },
      "execution_count": null,
      "outputs": []
    },
    {
      "cell_type": "markdown",
      "source": [
        "### Запустим общую обработку тут"
      ],
      "metadata": {
        "id": "eTB9u0eCOeH1"
      }
    },
    {
      "cell_type": "code",
      "source": [
        "df_train, df_test = MergeTrainTestWithDipoleMoments(df_train,df_test,df_dipole_moments)\n",
        "del df_dipole_moments\n",
        "df_train, df_test = MergeTrainTestWithMagneticShielding(df_train,df_test,df_magnetic_shielding_tensors)\n",
        "del df_magnetic_shielding_tensors\n",
        "df_train, df_test = MergeTrainTestWithMullikenCharges(df_train,df_test,df_mulliken_charges)\n",
        "del df_mulliken_charges\n",
        "df_train, df_test = MergeTrainTestWithPotentialEnergy(df_train,df_test,df_potential_energy)\n",
        "del df_potential_energy\n",
        "df_train, df_test = MergeTrainTestWithStructures(df_train,df_test,df_structures)\n",
        "del df_structures\n",
        "df_train, df_test = AddDistanceBetweenAtomsinCoupling(df_train, df_test)\n",
        "df_train, df_test = FullCountCouplingsPerMolekula(df_train,df_test)\n",
        "df_train, df_test = FullCountCouplingsPerMolekulaAtom(df_train,df_test)"
      ],
      "metadata": {
        "id": "GjdVR4GKOkJC"
      },
      "execution_count": null,
      "outputs": []
    },
    {
      "cell_type": "markdown",
      "source": [
        "### Объявим категориальные фичи тут"
      ],
      "metadata": {
        "id": "Q6M3JKRXOsMr"
      }
    },
    {
      "cell_type": "code",
      "source": [
        "# df_test['molecule_name'] = df_test['molecule_name'].astype('|S')\n",
        "# df_test['atom0'] = df_test['atom0'].astype('|S')\n",
        "# df_test['atom1'] = df_test['atom1'].astype('|S')\n",
        "# df_test['type'] = df_test['type'].astype('|S')\n",
        "\n",
        "# df_train['molecule_name'] = df_train['molecule_name'].astype('|S')\n",
        "# df_train['atom0'] = df_train['atom0'].astype('|S')\n",
        "# df_train['atom1'] = df_train['atom1'].astype('|S')\n",
        "# df_train['type'] = df_train['type'].astype('|S')\n",
        "\n",
        "cat_features = ['type', 'atom0', 'atom1', 'molecule_name']"
      ],
      "metadata": {
        "id": "5to4b0SCO0_7"
      },
      "execution_count": null,
      "outputs": []
    },
    {
      "cell_type": "markdown",
      "source": [
        "### Подготовим тестовыю и трейновую выборки к обычению"
      ],
      "metadata": {
        "id": "75HWO88dPAfs"
      }
    },
    {
      "cell_type": "code",
      "source": [
        "train_X = df_train.drop([\"id\", \"scalar_coupling_constant\"], axis=1)\n",
        "train_y = df_train[\"scalar_coupling_constant\"]\n",
        "test_X = df_test.drop([\"id\"] , axis=1)"
      ],
      "metadata": {
        "id": "wF9PwXVmOqib"
      },
      "execution_count": null,
      "outputs": []
    },
    {
      "cell_type": "code",
      "source": [
        "# print(df_magnetic_shielding_tensors.info())\n",
        "# df_structures"
      ],
      "metadata": {
        "id": "LeFmkD8YKqm8"
      },
      "execution_count": null,
      "outputs": []
    },
    {
      "cell_type": "code",
      "source": [
        "# df_structures.nunique()\n",
        "# df_scalar_coupling_contributions.isna().sum()"
      ],
      "metadata": {
        "id": "2W3aG-usLUXg"
      },
      "execution_count": null,
      "outputs": []
    },
    {
      "cell_type": "markdown",
      "source": [
        "#Глянем на то, какие данные предоставлены в соревновании:"
      ],
      "metadata": {
        "id": "AO92XvDszzog"
      }
    },
    {
      "cell_type": "markdown",
      "source": [
        "##MAIN DATA\n",
        "\n",
        "### `train.csv` 4 659 076 rows × 6 columns\n",
        "\n",
        "the training set, where the first column (molecule_name) is the name of the molecule where the coupling constant originates (the corresponding XYZ file is located at ./structures/.xyz), the second (atom_index_0) and third column (atom_index_1) is the atom indices of the atom-pair creating the coupling and the fourth column (scalar_coupling_constant) is the scalar coupling constant that we want to be able to predict\n",
        "\n",
        "`id`:int64 все значения уникальны\n",
        "\n",
        "`molecule_name`:str 85012 уникальных значений\n",
        "\n",
        "`atom_index_0`:int64 28 уникальных значений\n",
        "\n",
        "`atom_index_1`:int64 29 уникальных значений\n",
        "\n",
        "`type`:str 8 уникальных значений\n",
        "\n",
        "`scalar_coupling_constant`:float64 таргет\n",
        "\n",
        "### `test.csv` 2 505 190 rows x 5 columns\n",
        "\n",
        "the test set; same info as train, without the target variable\n",
        "\n",
        "`id`:int64 все значения уникальны\n",
        "\n",
        "`molecule_name`:str 85012 уникальных значений\n",
        "\n",
        "`atom_index_0`:int64 29(!) уникальных значений\n",
        "\n",
        "`atom_index_1`:int64 29 уникальных значений\n",
        "\n",
        "`type`:str 8 уникальных значений\n",
        "\n",
        "### `structures` 2 358 875 rows × 6 columns\n",
        "\n",
        "containing molecular structure (xyz) info, where the third column contains the atomic element (H for hydrogen, C for carbon etc.) and the remaining columns contain the X, Y and Z cartesian coordinates (a standard format for chemists and molecular visualization programs)\n",
        "\n",
        "`molecule_name`:str 130789 уникальных значений\n",
        "\n",
        "`atom_index`:int64 29 уникальных значений\n",
        "\n",
        "`atom`:str 5 уникальных значений\n",
        "\n",
        "`x`:float64 2358802 уникальных значений\n",
        "\n",
        "`y`:float64 2358808 уникальных значений\n",
        "\n",
        "`z`:float64 2358792 уникальных значений\n",
        "\n",
        "## Additional data(есть только для сета train)\n",
        "\n",
        "### `dipole_moments.csv` 130 789 rows × 4 columns\n",
        "\n",
        "contains the molecular electric dipole moments. These are three dimensional vectors that indicate the charge distribution in the molecule. The first column (molecule_name) are the names of the molecule, the second to fourth column are the X, Y and Z components respectively of the dipole moment.\n",
        "\n",
        "`molecule_name`:str 130789 уникальных значений, мёрджится с аналогичным столбцом в train.csv\n",
        "\n",
        "`X`:float64 66423 уникальных значений\n",
        "\n",
        "`Y`:float64 57652 уникальных значений\n",
        "\n",
        "`Z`:float64 41028 уникальных значений\n",
        "\n",
        "### `magnetic_shielding_tensors.csv` 2 358 875 rows × 11 columns, все фичи, кроме molecule_name и atom_index, float64\n",
        "\n",
        "contains the magnetic shielding tensors for all atoms in the molecules. The first column (molecule_name) contains the molecule name, the second column (atom_index) contains the index of the atom in the molecule, the third to eleventh columns contain the XX, YX, ZX, XY, YY, ZY, XZ, YZ and ZZ elements of the tensor/matrix respectively.\n",
        "\n",
        "`molecule_name`:str 130789 уникальных значений, мёрджится с аналогичным столбцом в train.csv\n",
        "\n",
        "`atom_index`:int64 29 уникальных значений\n",
        "\n",
        "`XX\tYX\tZX\tXY\tYY\tZY\tXZ\tYZ\tZZ`:float64\n",
        "\n",
        "### `mulliken_charges.csv` 2 358 875 rows × 3 columns\n",
        "\n",
        "contains the mulliken charges for all atoms in the molecules. The first column (molecule_name) contains the name of the molecule, the second column (atom_index) contains the index of the atom in the molecule, the third column (mulliken_charge) contains the mulliken charge of the atom.\n",
        "\n",
        "`molecule_name`:str 130789 уникальных значений, мёрджится с аналогичным столбцом в train.csv\n",
        "\n",
        "`atom_index`:int64 29 уникальных значений\n",
        "\n",
        "`mulliken_charge`:int64 733211 уникальное значение\n",
        "\n",
        "### `potential_energy.csv` 130789 rows × 2 columns\n",
        "\n",
        "contains the potential energy of the molecules. The first column (molecule_name) contains the name of the molecule, the second column (potential_energy) contains the potential energy of the molecule.\n",
        "\n",
        "`molecule_name`:str 130789 уникальных значений, мёрджится с аналогичным столбцом в train.csv\n",
        "\n",
        "`potential_energy`:float64 130553 уникальных значения\n",
        "\n",
        "### `scalar_coupling_contributions.csv` 4 659 076 rows × 8 columns\n",
        "\n",
        "The scalar coupling constants in train.csv (or corresponding files) are a sum of four terms. scalar_coupling_contributions.csv contain all these terms. The first column (molecule_name) are the name of the molecule, the second (atom_index_0) and third column (atom_index_1) are the atom indices of the atom-pair, the fourth column indicates the type of coupling, the fifth column (fc) is the Fermi Contact contribution, the sixth column (sd) is the Spin-dipolar contribution, the seventh column (pso) is the Paramagnetic spin-orbit contribution and the eighth column (dso) is the Diamagnetic spin-orbit contribution.\n",
        "\n",
        "`molecule_name`:str 85012 уникальных значений\n",
        "\n",
        "`atom_index_0`:int64 28(!) уникальных значений\n",
        "\n",
        "`atom_index_1`:int64 29 уникальных значений\n",
        "\n",
        "`type`:str 8 уникальных значений\n",
        "\n",
        "`fc`:float64 2170719 уникальных значений\n",
        "\n",
        "`sd`:float64 577108 уникальных значений\n",
        "\n",
        "`pso`:float64 1356440 уникальных значений\n",
        "\n",
        "`dso`:float64 1443358 уникальных значений\n",
        "\n",
        "\n",
        "## Выводы\n",
        "\n",
        "Датасеты огромные, т.к. дополнительные данные(5 сетов) есть только для train, однозначно надо его бить на train и val. главное, правильно всё это дело смёрджить. Данные хорошие, без пропусков, будем надеяться что и без косяков. Предсказываем некий вектор расстояния для пар атомов внутри молекул. Все виды молекул присутствуют в train и test, это должно упростить предсказание. Организаторы намекают на то, что для хорошего решения без создания своих фич не обойтись.\n",
        "\n"
      ],
      "metadata": {
        "id": "rkqNaT0yK5aj"
      }
    },
    {
      "cell_type": "markdown",
      "source": [
        "Михаил: Тогда при первом приближении мне видется так алгоритм: 1. Мержим структуру и доп. данные с train 2. Cозадем доп. фичи на основе доп.данных, но с привязкой только к структуре 3. Удаляем доп данные. 4. На основе алгоритма из пункта 2 формируем доп. фичи для test 5. Дальше штатно - учим на train c разбивкой на valid и предсказываем на test"
      ],
      "metadata": {
        "id": "oI0CKNQJPrd5"
      }
    },
    {
      "cell_type": "markdown",
      "source": [
        "Иван: В качестве дополнительных признаков можно использовать расстояния между атомами, образующими связь. Если рассматривать связи как вектора, то тоже появляются варианты. Например, можно брать их скалярное произведение(если у атома 2 связи). Для большего количества связей тоже можно что-нибудь придумать."
      ],
      "metadata": {
        "id": "YP3GX0_qEzHz"
      }
    },
    {
      "cell_type": "markdown",
      "source": [
        "# Молекулярная структура"
      ],
      "metadata": {
        "id": "5j-9y0wNz-PV"
      }
    },
    {
      "cell_type": "code",
      "source": [
        " !pip install -U kaleido"
      ],
      "metadata": {
        "colab": {
          "base_uri": "https://localhost:8080/"
        },
        "id": "auiw5_cceozL",
        "outputId": "043450f9-7d6f-4973-db22-220a821142bf"
      },
      "execution_count": null,
      "outputs": [
        {
          "output_type": "stream",
          "name": "stdout",
          "text": [
            "Collecting kaleido\n",
            "  Downloading kaleido-0.2.1-py2.py3-none-manylinux1_x86_64.whl (79.9 MB)\n",
            "\u001b[K     |████████████████████████████████| 79.9 MB 136 kB/s \n",
            "\u001b[?25hInstalling collected packages: kaleido\n",
            "Successfully installed kaleido-0.2.1\n"
          ]
        }
      ]
    },
    {
      "cell_type": "code",
      "source": [
        "!pip install -i https://test.pypi.org/simple/ xyz2graph"
      ],
      "metadata": {
        "id": "p32rpT46FWmY",
        "colab": {
          "base_uri": "https://localhost:8080/"
        },
        "outputId": "1ec85294-a817-4ddb-b1ed-b382b65bed4a"
      },
      "execution_count": null,
      "outputs": [
        {
          "output_type": "stream",
          "name": "stdout",
          "text": [
            "Looking in indexes: https://test.pypi.org/simple/\n",
            "Collecting xyz2graph\n",
            "  Downloading https://test-files.pythonhosted.org/packages/ed/dc/38398b8a06ec96a72da126896f56bab49e388b987f09cd03f0e60b905fd8/xyz2graph-0.1-py3-none-any.whl (5.4 kB)\n",
            "Requirement already satisfied: plotly in /usr/local/lib/python3.7/dist-packages (from xyz2graph) (5.5.0)\n",
            "Requirement already satisfied: networkx in /usr/local/lib/python3.7/dist-packages (from xyz2graph) (2.6.3)\n",
            "Requirement already satisfied: tenacity>=6.2.0 in /usr/local/lib/python3.7/dist-packages (from plotly->xyz2graph) (8.0.1)\n",
            "Requirement already satisfied: six in /usr/local/lib/python3.7/dist-packages (from plotly->xyz2graph) (1.15.0)\n",
            "Installing collected packages: xyz2graph\n",
            "Successfully installed xyz2graph-0.1\n"
          ]
        }
      ]
    },
    {
      "cell_type": "code",
      "source": [
        "df_structures = pd.read_csv('kaggle/structures.csv')"
      ],
      "metadata": {
        "id": "yHD68ehvefgK"
      },
      "execution_count": null,
      "outputs": []
    },
    {
      "cell_type": "code",
      "source": [
        "import random\n",
        "from xyz2graph import MolGraph, to_networkx_graph, to_plotly_figure\n",
        "import networkx as nx\n",
        "\n",
        "mol_names = df_structures.molecule_name.unique()\n",
        "\n",
        "def draw_mol(mol_name=''):\n",
        "    if mol_name == '':\n",
        "        mol_name = random.choice(mol_names)\n",
        "    # Create the MolGraph object\n",
        "    mg = MolGraph()\n",
        "    # Read the data from the .xyz file\n",
        "    mg.read_xyz(f'kaggle/structures/{mol_name}.xyz')\n",
        "    # Create the Plotly figure\n",
        "    fig = to_plotly_figure(mg)\n",
        "    fig.write_image('Structur.jpg', 'jpg', engine='kaleido')\n",
        "    fig.show(rendered='colab')\n",
        "\n",
        "    \n",
        "def mol_to_graph(mol_name):\n",
        "    mg = MolGraph()\n",
        "    mg.read_xyz(f'kaggle/structures/{mol_name}.xyz')\n",
        "    G = to_networkx_graph(mg)\n",
        "    #nx.draw(G, with_labels=True)\n",
        "    return G"
      ],
      "metadata": {
        "id": "umptcVzlExkP"
      },
      "execution_count": null,
      "outputs": []
    },
    {
      "cell_type": "code",
      "source": [
        "draw_mol()"
      ],
      "metadata": {
        "id": "tEM3ob2dFFDm",
        "colab": {
          "base_uri": "https://localhost:8080/"
        },
        "outputId": "23149330-390a-417d-b298-a7d670d49ae5"
      },
      "execution_count": null,
      "outputs": [
        {
          "output_type": "display_data",
          "data": {
            "text/html": [
              "<html>\n",
              "<head><meta charset=\"utf-8\" /></head>\n",
              "<body>\n",
              "    <div>            <script src=\"https://cdnjs.cloudflare.com/ajax/libs/mathjax/2.7.5/MathJax.js?config=TeX-AMS-MML_SVG\"></script><script type=\"text/javascript\">if (window.MathJax) {MathJax.Hub.Config({SVG: {font: \"STIX-Web\"}});}</script>                <script type=\"text/javascript\">window.PlotlyConfig = {MathJaxConfig: 'local'};</script>\n",
              "        <script src=\"https://cdn.plot.ly/plotly-2.8.3.min.js\"></script>                <div id=\"58a5225d-c0f4-458b-81fb-5b1f8c7c6074\" class=\"plotly-graph-div\" style=\"height:525px; width:100%;\"></div>            <script type=\"text/javascript\">                                    window.PLOTLYENV=window.PLOTLYENV || {};                                    if (document.getElementById(\"58a5225d-c0f4-458b-81fb-5b1f8c7c6074\")) {                    Plotly.newPlot(                        \"58a5225d-c0f4-458b-81fb-5b1f8c7c6074\",                        [{\"marker\":{\"color\":[\"black\",\"red\",\"black\",\"black\",\"black\",\"black\",\"red\",\"black\",\"red\",\"white\",\"white\",\"white\",\"white\",\"white\",\"white\",\"white\",\"white\",\"white\",\"white\"],\"line\":{\"color\":\"lightgray\",\"width\":2},\"opacity\":0.8,\"size\":7,\"symbol\":\"circle\"},\"mode\":\"markers\",\"text\":[\"C\",\"O\",\"C\",\"C\",\"C\",\"C\",\"O\",\"C\",\"O\",\"H\",\"H\",\"H\",\"H\",\"H\",\"H\",\"H\",\"H\",\"H\",\"H\"],\"x\":[-0.0825105341,-0.1186930289,-1.2813252831,-1.3759892199,-1.1890417444,0.131073846,0.2593249959,0.1625085857,0.2256936446,0.8594398762,-0.126651895,-0.9166219555,-2.191720832,-2.3313527307,-0.5128763456,-2.0544838311,0.959350832,0.2396206349,0.0261483952],\"y\":[1.2130715404,0.2375900153,-0.52733557,-1.70986982,-1.9165249363,-2.4216930403,-3.8370869808,-4.6590440223,-5.84843654,1.7553168626,0.7542839149,1.9242675461,0.0401640228,-1.961186565,-1.9098622011,-2.2648687448,-1.9415172411,-2.2116756483,-4.1144640819],\"z\":[-0.6097644533,0.4150591543,0.3964680672,-0.5326352854,0.9598538902,1.4770315014,1.2494909918,2.3072804269,2.2148772061,-0.5029541676,-1.6073738327,-0.5168412246,0.5964351979,-0.9787458659,-1.1587264654,1.5166256053,0.9546083092,2.5487846004,3.2636019543],\"type\":\"scatter3d\"},{\"hoverinfo\":\"none\",\"marker\":{\"color\":\"grey\",\"opacity\":1,\"size\":7},\"mode\":\"lines\",\"x\":[-0.0825105341,-0.1186930289,null,-0.0825105341,-0.126651895,null,-0.0825105341,-0.9166219555,null,-0.0825105341,0.8594398762,null,-0.1186930289,-0.0825105341,null,-0.1186930289,-1.2813252831,null,0.8594398762,-0.0825105341,null,-0.126651895,-0.0825105341,null,-0.9166219555,-0.0825105341,null,-1.2813252831,-0.1186930289,null,-1.2813252831,-1.3759892199,null,-1.2813252831,-1.1890417444,null,-1.2813252831,-2.191720832,null,-1.3759892199,-1.2813252831,null,-1.3759892199,-1.1890417444,null,-1.3759892199,-2.3313527307,null,-1.3759892199,-0.5128763456,null,-1.1890417444,-1.2813252831,null,-1.1890417444,-1.3759892199,null,-1.1890417444,0.131073846,null,-1.1890417444,-2.0544838311,null,-2.191720832,-1.2813252831,null,-2.3313527307,-1.3759892199,null,-0.5128763456,-1.3759892199,null,0.131073846,0.959350832,null,0.131073846,0.2396206349,null,0.131073846,-1.1890417444,null,0.131073846,0.2593249959,null,-2.0544838311,-1.1890417444,null,0.2593249959,0.131073846,null,0.2593249959,0.1625085857,null,0.959350832,0.131073846,null,0.2396206349,0.131073846,null,0.1625085857,0.2256936446,null,0.1625085857,0.0261483952,null,0.1625085857,0.2593249959,null,0.2256936446,0.1625085857,null,0.0261483952,0.1625085857,null],\"y\":[1.2130715404,0.2375900153,null,1.2130715404,0.7542839149,null,1.2130715404,1.9242675461,null,1.2130715404,1.7553168626,null,0.2375900153,1.2130715404,null,0.2375900153,-0.52733557,null,1.7553168626,1.2130715404,null,0.7542839149,1.2130715404,null,1.9242675461,1.2130715404,null,-0.52733557,0.2375900153,null,-0.52733557,-1.70986982,null,-0.52733557,-1.9165249363,null,-0.52733557,0.0401640228,null,-1.70986982,-0.52733557,null,-1.70986982,-1.9165249363,null,-1.70986982,-1.961186565,null,-1.70986982,-1.9098622011,null,-1.9165249363,-0.52733557,null,-1.9165249363,-1.70986982,null,-1.9165249363,-2.4216930403,null,-1.9165249363,-2.2648687448,null,0.0401640228,-0.52733557,null,-1.961186565,-1.70986982,null,-1.9098622011,-1.70986982,null,-2.4216930403,-1.9415172411,null,-2.4216930403,-2.2116756483,null,-2.4216930403,-1.9165249363,null,-2.4216930403,-3.8370869808,null,-2.2648687448,-1.9165249363,null,-3.8370869808,-2.4216930403,null,-3.8370869808,-4.6590440223,null,-1.9415172411,-2.4216930403,null,-2.2116756483,-2.4216930403,null,-4.6590440223,-5.84843654,null,-4.6590440223,-4.1144640819,null,-4.6590440223,-3.8370869808,null,-5.84843654,-4.6590440223,null,-4.1144640819,-4.6590440223,null],\"z\":[-0.6097644533,0.4150591543,null,-0.6097644533,-1.6073738327,null,-0.6097644533,-0.5168412246,null,-0.6097644533,-0.5029541676,null,0.4150591543,-0.6097644533,null,0.4150591543,0.3964680672,null,-0.5029541676,-0.6097644533,null,-1.6073738327,-0.6097644533,null,-0.5168412246,-0.6097644533,null,0.3964680672,0.4150591543,null,0.3964680672,-0.5326352854,null,0.3964680672,0.9598538902,null,0.3964680672,0.5964351979,null,-0.5326352854,0.3964680672,null,-0.5326352854,0.9598538902,null,-0.5326352854,-0.9787458659,null,-0.5326352854,-1.1587264654,null,0.9598538902,0.3964680672,null,0.9598538902,-0.5326352854,null,0.9598538902,1.4770315014,null,0.9598538902,1.5166256053,null,0.5964351979,0.3964680672,null,-0.9787458659,-0.5326352854,null,-1.1587264654,-0.5326352854,null,1.4770315014,0.9546083092,null,1.4770315014,2.5487846004,null,1.4770315014,0.9598538902,null,1.4770315014,1.2494909918,null,1.5166256053,0.9598538902,null,1.2494909918,1.4770315014,null,1.2494909918,2.3072804269,null,0.9546083092,1.4770315014,null,2.5487846004,1.4770315014,null,2.3072804269,2.2148772061,null,2.3072804269,3.2636019543,null,2.3072804269,1.2494909918,null,2.2148772061,2.3072804269,null,3.2636019543,2.3072804269,null],\"type\":\"scatter3d\"}],                        {\"margin\":{\"b\":0,\"l\":0,\"r\":0,\"t\":0},\"scene\":{\"annotations\":[{\"showarrow\":false,\"text\":\"C\",\"x\":-0.0825105341,\"y\":1.2130715404,\"yshift\":15,\"z\":-0.6097644533},{\"showarrow\":false,\"text\":\"O\",\"x\":-0.1186930289,\"y\":0.2375900153,\"yshift\":15,\"z\":0.4150591543},{\"showarrow\":false,\"text\":\"C\",\"x\":-1.2813252831,\"y\":-0.52733557,\"yshift\":15,\"z\":0.3964680672},{\"showarrow\":false,\"text\":\"C\",\"x\":-1.3759892199,\"y\":-1.70986982,\"yshift\":15,\"z\":-0.5326352854},{\"showarrow\":false,\"text\":\"C\",\"x\":-1.1890417444,\"y\":-1.9165249363,\"yshift\":15,\"z\":0.9598538902},{\"showarrow\":false,\"text\":\"C\",\"x\":0.131073846,\"y\":-2.4216930403,\"yshift\":15,\"z\":1.4770315014},{\"showarrow\":false,\"text\":\"O\",\"x\":0.2593249959,\"y\":-3.8370869808,\"yshift\":15,\"z\":1.2494909918},{\"showarrow\":false,\"text\":\"C\",\"x\":0.1625085857,\"y\":-4.6590440223,\"yshift\":15,\"z\":2.3072804269},{\"showarrow\":false,\"text\":\"O\",\"x\":0.2256936446,\"y\":-5.84843654,\"yshift\":15,\"z\":2.2148772061},{\"showarrow\":false,\"text\":\"H\",\"x\":0.8594398762,\"y\":1.7553168626,\"yshift\":15,\"z\":-0.5029541676},{\"showarrow\":false,\"text\":\"H\",\"x\":-0.126651895,\"y\":0.7542839149,\"yshift\":15,\"z\":-1.6073738327},{\"showarrow\":false,\"text\":\"H\",\"x\":-0.9166219555,\"y\":1.9242675461,\"yshift\":15,\"z\":-0.5168412246},{\"showarrow\":false,\"text\":\"H\",\"x\":-2.191720832,\"y\":0.0401640228,\"yshift\":15,\"z\":0.5964351979},{\"showarrow\":false,\"text\":\"H\",\"x\":-2.3313527307,\"y\":-1.961186565,\"yshift\":15,\"z\":-0.9787458659},{\"showarrow\":false,\"text\":\"H\",\"x\":-0.5128763456,\"y\":-1.9098622011,\"yshift\":15,\"z\":-1.1587264654},{\"showarrow\":false,\"text\":\"H\",\"x\":-2.0544838311,\"y\":-2.2648687448,\"yshift\":15,\"z\":1.5166256053},{\"showarrow\":false,\"text\":\"H\",\"x\":0.959350832,\"y\":-1.9415172411,\"yshift\":15,\"z\":0.9546083092},{\"showarrow\":false,\"text\":\"H\",\"x\":0.2396206349,\"y\":-2.2116756483,\"yshift\":15,\"z\":2.5487846004},{\"showarrow\":false,\"text\":\"H\",\"x\":0.0261483952,\"y\":-4.1144640819,\"yshift\":15,\"z\":3.2636019543}],\"xaxis\":{\"showbackground\":false,\"showgrid\":false,\"showticklabels\":false,\"title\":{\"font\":{\"color\":\"white\"}},\"zeroline\":false},\"yaxis\":{\"showbackground\":false,\"showgrid\":false,\"showticklabels\":false,\"title\":{\"font\":{\"color\":\"white\"}},\"zeroline\":false},\"zaxis\":{\"showbackground\":false,\"showgrid\":false,\"showticklabels\":false,\"title\":{\"font\":{\"color\":\"white\"}},\"zeroline\":false}},\"showlegend\":false,\"updatemenus\":[{\"buttons\":[{\"args\":[{\"scene.annotations\":[{\"text\":\"C\",\"x\":-0.0825105341,\"y\":1.2130715404,\"z\":-0.6097644533,\"showarrow\":false,\"yshift\":15},{\"text\":\"O\",\"x\":-0.1186930289,\"y\":0.2375900153,\"z\":0.4150591543,\"showarrow\":false,\"yshift\":15},{\"text\":\"C\",\"x\":-1.2813252831,\"y\":-0.52733557,\"z\":0.3964680672,\"showarrow\":false,\"yshift\":15},{\"text\":\"C\",\"x\":-1.3759892199,\"y\":-1.70986982,\"z\":-0.5326352854,\"showarrow\":false,\"yshift\":15},{\"text\":\"C\",\"x\":-1.1890417444,\"y\":-1.9165249363,\"z\":0.9598538902,\"showarrow\":false,\"yshift\":15},{\"text\":\"C\",\"x\":0.131073846,\"y\":-2.4216930403,\"z\":1.4770315014,\"showarrow\":false,\"yshift\":15},{\"text\":\"O\",\"x\":0.2593249959,\"y\":-3.8370869808,\"z\":1.2494909918,\"showarrow\":false,\"yshift\":15},{\"text\":\"C\",\"x\":0.1625085857,\"y\":-4.6590440223,\"z\":2.3072804269,\"showarrow\":false,\"yshift\":15},{\"text\":\"O\",\"x\":0.2256936446,\"y\":-5.84843654,\"z\":2.2148772061,\"showarrow\":false,\"yshift\":15},{\"text\":\"H\",\"x\":0.8594398762,\"y\":1.7553168626,\"z\":-0.5029541676,\"showarrow\":false,\"yshift\":15},{\"text\":\"H\",\"x\":-0.126651895,\"y\":0.7542839149,\"z\":-1.6073738327,\"showarrow\":false,\"yshift\":15},{\"text\":\"H\",\"x\":-0.9166219555,\"y\":1.9242675461,\"z\":-0.5168412246,\"showarrow\":false,\"yshift\":15},{\"text\":\"H\",\"x\":-2.191720832,\"y\":0.0401640228,\"z\":0.5964351979,\"showarrow\":false,\"yshift\":15},{\"text\":\"H\",\"x\":-2.3313527307,\"y\":-1.961186565,\"z\":-0.9787458659,\"showarrow\":false,\"yshift\":15},{\"text\":\"H\",\"x\":-0.5128763456,\"y\":-1.9098622011,\"z\":-1.1587264654,\"showarrow\":false,\"yshift\":15},{\"text\":\"H\",\"x\":-2.0544838311,\"y\":-2.2648687448,\"z\":1.5166256053,\"showarrow\":false,\"yshift\":15},{\"text\":\"H\",\"x\":0.959350832,\"y\":-1.9415172411,\"z\":0.9546083092,\"showarrow\":false,\"yshift\":15},{\"text\":\"H\",\"x\":0.2396206349,\"y\":-2.2116756483,\"z\":2.5487846004,\"showarrow\":false,\"yshift\":15},{\"text\":\"H\",\"x\":0.0261483952,\"y\":-4.1144640819,\"z\":3.2636019543,\"showarrow\":false,\"yshift\":15}]}],\"label\":\" Elements\",\"method\":\"relayout\"},{\"args\":[{\"scene.annotations\":[{\"text\":\"C\",\"x\":-0.0825105341,\"y\":1.2130715404,\"z\":-0.6097644533,\"showarrow\":false,\"yshift\":15},{\"text\":\"O\",\"x\":-0.1186930289,\"y\":0.2375900153,\"z\":0.4150591543,\"showarrow\":false,\"yshift\":15},{\"text\":\"C\",\"x\":-1.2813252831,\"y\":-0.52733557,\"z\":0.3964680672,\"showarrow\":false,\"yshift\":15},{\"text\":\"C\",\"x\":-1.3759892199,\"y\":-1.70986982,\"z\":-0.5326352854,\"showarrow\":false,\"yshift\":15},{\"text\":\"C\",\"x\":-1.1890417444,\"y\":-1.9165249363,\"z\":0.9598538902,\"showarrow\":false,\"yshift\":15},{\"text\":\"C\",\"x\":0.131073846,\"y\":-2.4216930403,\"z\":1.4770315014,\"showarrow\":false,\"yshift\":15},{\"text\":\"O\",\"x\":0.2593249959,\"y\":-3.8370869808,\"z\":1.2494909918,\"showarrow\":false,\"yshift\":15},{\"text\":\"C\",\"x\":0.1625085857,\"y\":-4.6590440223,\"z\":2.3072804269,\"showarrow\":false,\"yshift\":15},{\"text\":\"O\",\"x\":0.2256936446,\"y\":-5.84843654,\"z\":2.2148772061,\"showarrow\":false,\"yshift\":15},{\"text\":\"H\",\"x\":0.8594398762,\"y\":1.7553168626,\"z\":-0.5029541676,\"showarrow\":false,\"yshift\":15},{\"text\":\"H\",\"x\":-0.126651895,\"y\":0.7542839149,\"z\":-1.6073738327,\"showarrow\":false,\"yshift\":15},{\"text\":\"H\",\"x\":-0.9166219555,\"y\":1.9242675461,\"z\":-0.5168412246,\"showarrow\":false,\"yshift\":15},{\"text\":\"H\",\"x\":-2.191720832,\"y\":0.0401640228,\"z\":0.5964351979,\"showarrow\":false,\"yshift\":15},{\"text\":\"H\",\"x\":-2.3313527307,\"y\":-1.961186565,\"z\":-0.9787458659,\"showarrow\":false,\"yshift\":15},{\"text\":\"H\",\"x\":-0.5128763456,\"y\":-1.9098622011,\"z\":-1.1587264654,\"showarrow\":false,\"yshift\":15},{\"text\":\"H\",\"x\":-2.0544838311,\"y\":-2.2648687448,\"z\":1.5166256053,\"showarrow\":false,\"yshift\":15},{\"text\":\"H\",\"x\":0.959350832,\"y\":-1.9415172411,\"z\":0.9546083092,\"showarrow\":false,\"yshift\":15},{\"text\":\"H\",\"x\":0.2396206349,\"y\":-2.2116756483,\"z\":2.5487846004,\"showarrow\":false,\"yshift\":15},{\"text\":\"H\",\"x\":0.0261483952,\"y\":-4.1144640819,\"z\":3.2636019543,\"showarrow\":false,\"yshift\":15},{\"text\":1.42,\"x\":-0.1006017815,\"y\":0.72533077785,\"z\":-0.09735264949999997,\"showarrow\":false,\"yshift\":15,\"font\":{\"color\":\"steelblue\"}},{\"text\":1.09,\"x\":0.38846467105,\"y\":1.4841942015,\"z\":-0.55635931045,\"showarrow\":false,\"yshift\":15,\"font\":{\"color\":\"steelblue\"}},{\"text\":1.1,\"x\":-0.10458121455,\"y\":0.9836777276500001,\"z\":-1.108569143,\"showarrow\":false,\"yshift\":15,\"font\":{\"color\":\"steelblue\"}},{\"text\":1.1,\"x\":-0.4995662448,\"y\":1.56866954325,\"z\":-0.56330283895,\"showarrow\":false,\"yshift\":15,\"font\":{\"color\":\"steelblue\"}},{\"text\":1.39,\"x\":-0.7000091559999999,\"y\":-0.14487277734999998,\"z\":0.40576361075,\"showarrow\":false,\"yshift\":15,\"font\":{\"color\":\"steelblue\"}},{\"text\":1.51,\"x\":-1.3286572515,\"y\":-1.1186026949999999,\"z\":-0.06808360910000003,\"showarrow\":false,\"yshift\":15,\"font\":{\"color\":\"steelblue\"}},{\"text\":1.5,\"x\":-1.23518351375,\"y\":-1.22193025315,\"z\":0.6781609787,\"showarrow\":false,\"yshift\":15,\"font\":{\"color\":\"steelblue\"}},{\"text\":1.09,\"x\":-1.73652305755,\"y\":-0.2435857736,\"z\":0.49645163255,\"showarrow\":false,\"yshift\":15,\"font\":{\"color\":\"steelblue\"}},{\"text\":1.52,\"x\":-1.28251548215,\"y\":-1.81319737815,\"z\":0.21360930239999998,\"showarrow\":false,\"yshift\":15,\"font\":{\"color\":\"steelblue\"}},{\"text\":1.08,\"x\":-1.8536709753,\"y\":-1.8355281925,\"z\":-0.7556905756500001,\"showarrow\":false,\"yshift\":15,\"font\":{\"color\":\"steelblue\"}},{\"text\":1.08,\"x\":-0.9444327827499999,\"y\":-1.80986601055,\"z\":-0.8456808754,\"showarrow\":false,\"yshift\":15,\"font\":{\"color\":\"steelblue\"}},{\"text\":1.51,\"x\":-0.5289839492,\"y\":-2.1691089883,\"z\":1.2184426957999999,\"showarrow\":false,\"yshift\":15,\"font\":{\"color\":\"steelblue\"}},{\"text\":1.09,\"x\":-1.6217627877500003,\"y\":-2.09069684055,\"z\":1.23823974775,\"showarrow\":false,\"yshift\":15,\"font\":{\"color\":\"steelblue\"}},{\"text\":1.44,\"x\":0.19519942095,\"y\":-3.12939001055,\"z\":1.3632612466,\"showarrow\":false,\"yshift\":15,\"font\":{\"color\":\"steelblue\"}},{\"text\":1.09,\"x\":0.545212339,\"y\":-2.1816051407,\"z\":1.2158199053,\"showarrow\":false,\"yshift\":15,\"font\":{\"color\":\"steelblue\"}},{\"text\":1.1,\"x\":0.18534724045,\"y\":-2.3166843443,\"z\":2.0129080509,\"showarrow\":false,\"yshift\":15,\"font\":{\"color\":\"steelblue\"}},{\"text\":1.34,\"x\":0.21091679080000003,\"y\":-4.24806550155,\"z\":1.7783857093499997,\"showarrow\":false,\"yshift\":15,\"font\":{\"color\":\"steelblue\"}},{\"text\":1.19,\"x\":0.19410111515,\"y\":-5.25374028115,\"z\":2.2610788165,\"showarrow\":false,\"yshift\":15,\"font\":{\"color\":\"steelblue\"}},{\"text\":1.11,\"x\":0.09432849045000001,\"y\":-4.3867540521,\"z\":2.7854411906,\"showarrow\":false,\"yshift\":15,\"font\":{\"color\":\"steelblue\"}}]}],\"label\":\" Elements & Bond Lengths\",\"method\":\"relayout\"},{\"args\":[{\"scene.annotations\":[{\"text\":0,\"x\":-0.0825105341,\"y\":1.2130715404,\"z\":-0.6097644533,\"showarrow\":false,\"yshift\":15},{\"text\":1,\"x\":-0.1186930289,\"y\":0.2375900153,\"z\":0.4150591543,\"showarrow\":false,\"yshift\":15},{\"text\":2,\"x\":-1.2813252831,\"y\":-0.52733557,\"z\":0.3964680672,\"showarrow\":false,\"yshift\":15},{\"text\":3,\"x\":-1.3759892199,\"y\":-1.70986982,\"z\":-0.5326352854,\"showarrow\":false,\"yshift\":15},{\"text\":4,\"x\":-1.1890417444,\"y\":-1.9165249363,\"z\":0.9598538902,\"showarrow\":false,\"yshift\":15},{\"text\":5,\"x\":0.131073846,\"y\":-2.4216930403,\"z\":1.4770315014,\"showarrow\":false,\"yshift\":15},{\"text\":6,\"x\":0.2593249959,\"y\":-3.8370869808,\"z\":1.2494909918,\"showarrow\":false,\"yshift\":15},{\"text\":7,\"x\":0.1625085857,\"y\":-4.6590440223,\"z\":2.3072804269,\"showarrow\":false,\"yshift\":15},{\"text\":8,\"x\":0.2256936446,\"y\":-5.84843654,\"z\":2.2148772061,\"showarrow\":false,\"yshift\":15},{\"text\":9,\"x\":0.8594398762,\"y\":1.7553168626,\"z\":-0.5029541676,\"showarrow\":false,\"yshift\":15},{\"text\":10,\"x\":-0.126651895,\"y\":0.7542839149,\"z\":-1.6073738327,\"showarrow\":false,\"yshift\":15},{\"text\":11,\"x\":-0.9166219555,\"y\":1.9242675461,\"z\":-0.5168412246,\"showarrow\":false,\"yshift\":15},{\"text\":12,\"x\":-2.191720832,\"y\":0.0401640228,\"z\":0.5964351979,\"showarrow\":false,\"yshift\":15},{\"text\":13,\"x\":-2.3313527307,\"y\":-1.961186565,\"z\":-0.9787458659,\"showarrow\":false,\"yshift\":15},{\"text\":14,\"x\":-0.5128763456,\"y\":-1.9098622011,\"z\":-1.1587264654,\"showarrow\":false,\"yshift\":15},{\"text\":15,\"x\":-2.0544838311,\"y\":-2.2648687448,\"z\":1.5166256053,\"showarrow\":false,\"yshift\":15},{\"text\":16,\"x\":0.959350832,\"y\":-1.9415172411,\"z\":0.9546083092,\"showarrow\":false,\"yshift\":15},{\"text\":17,\"x\":0.2396206349,\"y\":-2.2116756483,\"z\":2.5487846004,\"showarrow\":false,\"yshift\":15},{\"text\":18,\"x\":0.0261483952,\"y\":-4.1144640819,\"z\":3.2636019543,\"showarrow\":false,\"yshift\":15}]}],\"label\":\"Indices\",\"method\":\"relayout\"},{\"args\":[{\"scene.annotations\":[{\"text\":0,\"x\":-0.0825105341,\"y\":1.2130715404,\"z\":-0.6097644533,\"showarrow\":false,\"yshift\":15},{\"text\":1,\"x\":-0.1186930289,\"y\":0.2375900153,\"z\":0.4150591543,\"showarrow\":false,\"yshift\":15},{\"text\":2,\"x\":-1.2813252831,\"y\":-0.52733557,\"z\":0.3964680672,\"showarrow\":false,\"yshift\":15},{\"text\":3,\"x\":-1.3759892199,\"y\":-1.70986982,\"z\":-0.5326352854,\"showarrow\":false,\"yshift\":15},{\"text\":4,\"x\":-1.1890417444,\"y\":-1.9165249363,\"z\":0.9598538902,\"showarrow\":false,\"yshift\":15},{\"text\":5,\"x\":0.131073846,\"y\":-2.4216930403,\"z\":1.4770315014,\"showarrow\":false,\"yshift\":15},{\"text\":6,\"x\":0.2593249959,\"y\":-3.8370869808,\"z\":1.2494909918,\"showarrow\":false,\"yshift\":15},{\"text\":7,\"x\":0.1625085857,\"y\":-4.6590440223,\"z\":2.3072804269,\"showarrow\":false,\"yshift\":15},{\"text\":8,\"x\":0.2256936446,\"y\":-5.84843654,\"z\":2.2148772061,\"showarrow\":false,\"yshift\":15},{\"text\":9,\"x\":0.8594398762,\"y\":1.7553168626,\"z\":-0.5029541676,\"showarrow\":false,\"yshift\":15},{\"text\":10,\"x\":-0.126651895,\"y\":0.7542839149,\"z\":-1.6073738327,\"showarrow\":false,\"yshift\":15},{\"text\":11,\"x\":-0.9166219555,\"y\":1.9242675461,\"z\":-0.5168412246,\"showarrow\":false,\"yshift\":15},{\"text\":12,\"x\":-2.191720832,\"y\":0.0401640228,\"z\":0.5964351979,\"showarrow\":false,\"yshift\":15},{\"text\":13,\"x\":-2.3313527307,\"y\":-1.961186565,\"z\":-0.9787458659,\"showarrow\":false,\"yshift\":15},{\"text\":14,\"x\":-0.5128763456,\"y\":-1.9098622011,\"z\":-1.1587264654,\"showarrow\":false,\"yshift\":15},{\"text\":15,\"x\":-2.0544838311,\"y\":-2.2648687448,\"z\":1.5166256053,\"showarrow\":false,\"yshift\":15},{\"text\":16,\"x\":0.959350832,\"y\":-1.9415172411,\"z\":0.9546083092,\"showarrow\":false,\"yshift\":15},{\"text\":17,\"x\":0.2396206349,\"y\":-2.2116756483,\"z\":2.5487846004,\"showarrow\":false,\"yshift\":15},{\"text\":18,\"x\":0.0261483952,\"y\":-4.1144640819,\"z\":3.2636019543,\"showarrow\":false,\"yshift\":15},{\"text\":1.42,\"x\":-0.1006017815,\"y\":0.72533077785,\"z\":-0.09735264949999997,\"showarrow\":false,\"yshift\":15,\"font\":{\"color\":\"steelblue\"}},{\"text\":1.09,\"x\":0.38846467105,\"y\":1.4841942015,\"z\":-0.55635931045,\"showarrow\":false,\"yshift\":15,\"font\":{\"color\":\"steelblue\"}},{\"text\":1.1,\"x\":-0.10458121455,\"y\":0.9836777276500001,\"z\":-1.108569143,\"showarrow\":false,\"yshift\":15,\"font\":{\"color\":\"steelblue\"}},{\"text\":1.1,\"x\":-0.4995662448,\"y\":1.56866954325,\"z\":-0.56330283895,\"showarrow\":false,\"yshift\":15,\"font\":{\"color\":\"steelblue\"}},{\"text\":1.39,\"x\":-0.7000091559999999,\"y\":-0.14487277734999998,\"z\":0.40576361075,\"showarrow\":false,\"yshift\":15,\"font\":{\"color\":\"steelblue\"}},{\"text\":1.51,\"x\":-1.3286572515,\"y\":-1.1186026949999999,\"z\":-0.06808360910000003,\"showarrow\":false,\"yshift\":15,\"font\":{\"color\":\"steelblue\"}},{\"text\":1.5,\"x\":-1.23518351375,\"y\":-1.22193025315,\"z\":0.6781609787,\"showarrow\":false,\"yshift\":15,\"font\":{\"color\":\"steelblue\"}},{\"text\":1.09,\"x\":-1.73652305755,\"y\":-0.2435857736,\"z\":0.49645163255,\"showarrow\":false,\"yshift\":15,\"font\":{\"color\":\"steelblue\"}},{\"text\":1.52,\"x\":-1.28251548215,\"y\":-1.81319737815,\"z\":0.21360930239999998,\"showarrow\":false,\"yshift\":15,\"font\":{\"color\":\"steelblue\"}},{\"text\":1.08,\"x\":-1.8536709753,\"y\":-1.8355281925,\"z\":-0.7556905756500001,\"showarrow\":false,\"yshift\":15,\"font\":{\"color\":\"steelblue\"}},{\"text\":1.08,\"x\":-0.9444327827499999,\"y\":-1.80986601055,\"z\":-0.8456808754,\"showarrow\":false,\"yshift\":15,\"font\":{\"color\":\"steelblue\"}},{\"text\":1.51,\"x\":-0.5289839492,\"y\":-2.1691089883,\"z\":1.2184426957999999,\"showarrow\":false,\"yshift\":15,\"font\":{\"color\":\"steelblue\"}},{\"text\":1.09,\"x\":-1.6217627877500003,\"y\":-2.09069684055,\"z\":1.23823974775,\"showarrow\":false,\"yshift\":15,\"font\":{\"color\":\"steelblue\"}},{\"text\":1.44,\"x\":0.19519942095,\"y\":-3.12939001055,\"z\":1.3632612466,\"showarrow\":false,\"yshift\":15,\"font\":{\"color\":\"steelblue\"}},{\"text\":1.09,\"x\":0.545212339,\"y\":-2.1816051407,\"z\":1.2158199053,\"showarrow\":false,\"yshift\":15,\"font\":{\"color\":\"steelblue\"}},{\"text\":1.1,\"x\":0.18534724045,\"y\":-2.3166843443,\"z\":2.0129080509,\"showarrow\":false,\"yshift\":15,\"font\":{\"color\":\"steelblue\"}},{\"text\":1.34,\"x\":0.21091679080000003,\"y\":-4.24806550155,\"z\":1.7783857093499997,\"showarrow\":false,\"yshift\":15,\"font\":{\"color\":\"steelblue\"}},{\"text\":1.19,\"x\":0.19410111515,\"y\":-5.25374028115,\"z\":2.2610788165,\"showarrow\":false,\"yshift\":15,\"font\":{\"color\":\"steelblue\"}},{\"text\":1.11,\"x\":0.09432849045000001,\"y\":-4.3867540521,\"z\":2.7854411906,\"showarrow\":false,\"yshift\":15,\"font\":{\"color\":\"steelblue\"}}]}],\"label\":\"Indices & Bond Lengths\",\"method\":\"relayout\"},{\"args\":[{\"scene.annotations\":[{\"text\":1.42,\"x\":-0.1006017815,\"y\":0.72533077785,\"z\":-0.09735264949999997,\"showarrow\":false,\"yshift\":15,\"font\":{\"color\":\"steelblue\"}},{\"text\":1.09,\"x\":0.38846467105,\"y\":1.4841942015,\"z\":-0.55635931045,\"showarrow\":false,\"yshift\":15,\"font\":{\"color\":\"steelblue\"}},{\"text\":1.1,\"x\":-0.10458121455,\"y\":0.9836777276500001,\"z\":-1.108569143,\"showarrow\":false,\"yshift\":15,\"font\":{\"color\":\"steelblue\"}},{\"text\":1.1,\"x\":-0.4995662448,\"y\":1.56866954325,\"z\":-0.56330283895,\"showarrow\":false,\"yshift\":15,\"font\":{\"color\":\"steelblue\"}},{\"text\":1.39,\"x\":-0.7000091559999999,\"y\":-0.14487277734999998,\"z\":0.40576361075,\"showarrow\":false,\"yshift\":15,\"font\":{\"color\":\"steelblue\"}},{\"text\":1.51,\"x\":-1.3286572515,\"y\":-1.1186026949999999,\"z\":-0.06808360910000003,\"showarrow\":false,\"yshift\":15,\"font\":{\"color\":\"steelblue\"}},{\"text\":1.5,\"x\":-1.23518351375,\"y\":-1.22193025315,\"z\":0.6781609787,\"showarrow\":false,\"yshift\":15,\"font\":{\"color\":\"steelblue\"}},{\"text\":1.09,\"x\":-1.73652305755,\"y\":-0.2435857736,\"z\":0.49645163255,\"showarrow\":false,\"yshift\":15,\"font\":{\"color\":\"steelblue\"}},{\"text\":1.52,\"x\":-1.28251548215,\"y\":-1.81319737815,\"z\":0.21360930239999998,\"showarrow\":false,\"yshift\":15,\"font\":{\"color\":\"steelblue\"}},{\"text\":1.08,\"x\":-1.8536709753,\"y\":-1.8355281925,\"z\":-0.7556905756500001,\"showarrow\":false,\"yshift\":15,\"font\":{\"color\":\"steelblue\"}},{\"text\":1.08,\"x\":-0.9444327827499999,\"y\":-1.80986601055,\"z\":-0.8456808754,\"showarrow\":false,\"yshift\":15,\"font\":{\"color\":\"steelblue\"}},{\"text\":1.51,\"x\":-0.5289839492,\"y\":-2.1691089883,\"z\":1.2184426957999999,\"showarrow\":false,\"yshift\":15,\"font\":{\"color\":\"steelblue\"}},{\"text\":1.09,\"x\":-1.6217627877500003,\"y\":-2.09069684055,\"z\":1.23823974775,\"showarrow\":false,\"yshift\":15,\"font\":{\"color\":\"steelblue\"}},{\"text\":1.44,\"x\":0.19519942095,\"y\":-3.12939001055,\"z\":1.3632612466,\"showarrow\":false,\"yshift\":15,\"font\":{\"color\":\"steelblue\"}},{\"text\":1.09,\"x\":0.545212339,\"y\":-2.1816051407,\"z\":1.2158199053,\"showarrow\":false,\"yshift\":15,\"font\":{\"color\":\"steelblue\"}},{\"text\":1.1,\"x\":0.18534724045,\"y\":-2.3166843443,\"z\":2.0129080509,\"showarrow\":false,\"yshift\":15,\"font\":{\"color\":\"steelblue\"}},{\"text\":1.34,\"x\":0.21091679080000003,\"y\":-4.24806550155,\"z\":1.7783857093499997,\"showarrow\":false,\"yshift\":15,\"font\":{\"color\":\"steelblue\"}},{\"text\":1.19,\"x\":0.19410111515,\"y\":-5.25374028115,\"z\":2.2610788165,\"showarrow\":false,\"yshift\":15,\"font\":{\"color\":\"steelblue\"}},{\"text\":1.11,\"x\":0.09432849045000001,\"y\":-4.3867540521,\"z\":2.7854411906,\"showarrow\":false,\"yshift\":15,\"font\":{\"color\":\"steelblue\"}}]}],\"label\":\"Bond Lengths\",\"method\":\"relayout\"},{\"args\":[{\"scene.annotations\":[]}],\"label\":\"Hide All\",\"method\":\"relayout\"}],\"direction\":\"down\",\"xanchor\":\"left\",\"yanchor\":\"top\"}],\"template\":{\"data\":{\"bar\":[{\"error_x\":{\"color\":\"#2a3f5f\"},\"error_y\":{\"color\":\"#2a3f5f\"},\"marker\":{\"line\":{\"color\":\"#E5ECF6\",\"width\":0.5},\"pattern\":{\"fillmode\":\"overlay\",\"size\":10,\"solidity\":0.2}},\"type\":\"bar\"}],\"barpolar\":[{\"marker\":{\"line\":{\"color\":\"#E5ECF6\",\"width\":0.5},\"pattern\":{\"fillmode\":\"overlay\",\"size\":10,\"solidity\":0.2}},\"type\":\"barpolar\"}],\"carpet\":[{\"aaxis\":{\"endlinecolor\":\"#2a3f5f\",\"gridcolor\":\"white\",\"linecolor\":\"white\",\"minorgridcolor\":\"white\",\"startlinecolor\":\"#2a3f5f\"},\"baxis\":{\"endlinecolor\":\"#2a3f5f\",\"gridcolor\":\"white\",\"linecolor\":\"white\",\"minorgridcolor\":\"white\",\"startlinecolor\":\"#2a3f5f\"},\"type\":\"carpet\"}],\"choropleth\":[{\"colorbar\":{\"outlinewidth\":0,\"ticks\":\"\"},\"type\":\"choropleth\"}],\"contour\":[{\"colorbar\":{\"outlinewidth\":0,\"ticks\":\"\"},\"colorscale\":[[0.0,\"#0d0887\"],[0.1111111111111111,\"#46039f\"],[0.2222222222222222,\"#7201a8\"],[0.3333333333333333,\"#9c179e\"],[0.4444444444444444,\"#bd3786\"],[0.5555555555555556,\"#d8576b\"],[0.6666666666666666,\"#ed7953\"],[0.7777777777777778,\"#fb9f3a\"],[0.8888888888888888,\"#fdca26\"],[1.0,\"#f0f921\"]],\"type\":\"contour\"}],\"contourcarpet\":[{\"colorbar\":{\"outlinewidth\":0,\"ticks\":\"\"},\"type\":\"contourcarpet\"}],\"heatmap\":[{\"colorbar\":{\"outlinewidth\":0,\"ticks\":\"\"},\"colorscale\":[[0.0,\"#0d0887\"],[0.1111111111111111,\"#46039f\"],[0.2222222222222222,\"#7201a8\"],[0.3333333333333333,\"#9c179e\"],[0.4444444444444444,\"#bd3786\"],[0.5555555555555556,\"#d8576b\"],[0.6666666666666666,\"#ed7953\"],[0.7777777777777778,\"#fb9f3a\"],[0.8888888888888888,\"#fdca26\"],[1.0,\"#f0f921\"]],\"type\":\"heatmap\"}],\"heatmapgl\":[{\"colorbar\":{\"outlinewidth\":0,\"ticks\":\"\"},\"colorscale\":[[0.0,\"#0d0887\"],[0.1111111111111111,\"#46039f\"],[0.2222222222222222,\"#7201a8\"],[0.3333333333333333,\"#9c179e\"],[0.4444444444444444,\"#bd3786\"],[0.5555555555555556,\"#d8576b\"],[0.6666666666666666,\"#ed7953\"],[0.7777777777777778,\"#fb9f3a\"],[0.8888888888888888,\"#fdca26\"],[1.0,\"#f0f921\"]],\"type\":\"heatmapgl\"}],\"histogram\":[{\"marker\":{\"pattern\":{\"fillmode\":\"overlay\",\"size\":10,\"solidity\":0.2}},\"type\":\"histogram\"}],\"histogram2d\":[{\"colorbar\":{\"outlinewidth\":0,\"ticks\":\"\"},\"colorscale\":[[0.0,\"#0d0887\"],[0.1111111111111111,\"#46039f\"],[0.2222222222222222,\"#7201a8\"],[0.3333333333333333,\"#9c179e\"],[0.4444444444444444,\"#bd3786\"],[0.5555555555555556,\"#d8576b\"],[0.6666666666666666,\"#ed7953\"],[0.7777777777777778,\"#fb9f3a\"],[0.8888888888888888,\"#fdca26\"],[1.0,\"#f0f921\"]],\"type\":\"histogram2d\"}],\"histogram2dcontour\":[{\"colorbar\":{\"outlinewidth\":0,\"ticks\":\"\"},\"colorscale\":[[0.0,\"#0d0887\"],[0.1111111111111111,\"#46039f\"],[0.2222222222222222,\"#7201a8\"],[0.3333333333333333,\"#9c179e\"],[0.4444444444444444,\"#bd3786\"],[0.5555555555555556,\"#d8576b\"],[0.6666666666666666,\"#ed7953\"],[0.7777777777777778,\"#fb9f3a\"],[0.8888888888888888,\"#fdca26\"],[1.0,\"#f0f921\"]],\"type\":\"histogram2dcontour\"}],\"mesh3d\":[{\"colorbar\":{\"outlinewidth\":0,\"ticks\":\"\"},\"type\":\"mesh3d\"}],\"parcoords\":[{\"line\":{\"colorbar\":{\"outlinewidth\":0,\"ticks\":\"\"}},\"type\":\"parcoords\"}],\"pie\":[{\"automargin\":true,\"type\":\"pie\"}],\"scatter\":[{\"marker\":{\"colorbar\":{\"outlinewidth\":0,\"ticks\":\"\"}},\"type\":\"scatter\"}],\"scatter3d\":[{\"line\":{\"colorbar\":{\"outlinewidth\":0,\"ticks\":\"\"}},\"marker\":{\"colorbar\":{\"outlinewidth\":0,\"ticks\":\"\"}},\"type\":\"scatter3d\"}],\"scattercarpet\":[{\"marker\":{\"colorbar\":{\"outlinewidth\":0,\"ticks\":\"\"}},\"type\":\"scattercarpet\"}],\"scattergeo\":[{\"marker\":{\"colorbar\":{\"outlinewidth\":0,\"ticks\":\"\"}},\"type\":\"scattergeo\"}],\"scattergl\":[{\"marker\":{\"colorbar\":{\"outlinewidth\":0,\"ticks\":\"\"}},\"type\":\"scattergl\"}],\"scattermapbox\":[{\"marker\":{\"colorbar\":{\"outlinewidth\":0,\"ticks\":\"\"}},\"type\":\"scattermapbox\"}],\"scatterpolar\":[{\"marker\":{\"colorbar\":{\"outlinewidth\":0,\"ticks\":\"\"}},\"type\":\"scatterpolar\"}],\"scatterpolargl\":[{\"marker\":{\"colorbar\":{\"outlinewidth\":0,\"ticks\":\"\"}},\"type\":\"scatterpolargl\"}],\"scatterternary\":[{\"marker\":{\"colorbar\":{\"outlinewidth\":0,\"ticks\":\"\"}},\"type\":\"scatterternary\"}],\"surface\":[{\"colorbar\":{\"outlinewidth\":0,\"ticks\":\"\"},\"colorscale\":[[0.0,\"#0d0887\"],[0.1111111111111111,\"#46039f\"],[0.2222222222222222,\"#7201a8\"],[0.3333333333333333,\"#9c179e\"],[0.4444444444444444,\"#bd3786\"],[0.5555555555555556,\"#d8576b\"],[0.6666666666666666,\"#ed7953\"],[0.7777777777777778,\"#fb9f3a\"],[0.8888888888888888,\"#fdca26\"],[1.0,\"#f0f921\"]],\"type\":\"surface\"}],\"table\":[{\"cells\":{\"fill\":{\"color\":\"#EBF0F8\"},\"line\":{\"color\":\"white\"}},\"header\":{\"fill\":{\"color\":\"#C8D4E3\"},\"line\":{\"color\":\"white\"}},\"type\":\"table\"}]},\"layout\":{\"annotationdefaults\":{\"arrowcolor\":\"#2a3f5f\",\"arrowhead\":0,\"arrowwidth\":1},\"autotypenumbers\":\"strict\",\"coloraxis\":{\"colorbar\":{\"outlinewidth\":0,\"ticks\":\"\"}},\"colorscale\":{\"diverging\":[[0,\"#8e0152\"],[0.1,\"#c51b7d\"],[0.2,\"#de77ae\"],[0.3,\"#f1b6da\"],[0.4,\"#fde0ef\"],[0.5,\"#f7f7f7\"],[0.6,\"#e6f5d0\"],[0.7,\"#b8e186\"],[0.8,\"#7fbc41\"],[0.9,\"#4d9221\"],[1,\"#276419\"]],\"sequential\":[[0.0,\"#0d0887\"],[0.1111111111111111,\"#46039f\"],[0.2222222222222222,\"#7201a8\"],[0.3333333333333333,\"#9c179e\"],[0.4444444444444444,\"#bd3786\"],[0.5555555555555556,\"#d8576b\"],[0.6666666666666666,\"#ed7953\"],[0.7777777777777778,\"#fb9f3a\"],[0.8888888888888888,\"#fdca26\"],[1.0,\"#f0f921\"]],\"sequentialminus\":[[0.0,\"#0d0887\"],[0.1111111111111111,\"#46039f\"],[0.2222222222222222,\"#7201a8\"],[0.3333333333333333,\"#9c179e\"],[0.4444444444444444,\"#bd3786\"],[0.5555555555555556,\"#d8576b\"],[0.6666666666666666,\"#ed7953\"],[0.7777777777777778,\"#fb9f3a\"],[0.8888888888888888,\"#fdca26\"],[1.0,\"#f0f921\"]]},\"colorway\":[\"#636efa\",\"#EF553B\",\"#00cc96\",\"#ab63fa\",\"#FFA15A\",\"#19d3f3\",\"#FF6692\",\"#B6E880\",\"#FF97FF\",\"#FECB52\"],\"font\":{\"color\":\"#2a3f5f\"},\"geo\":{\"bgcolor\":\"white\",\"lakecolor\":\"white\",\"landcolor\":\"#E5ECF6\",\"showlakes\":true,\"showland\":true,\"subunitcolor\":\"white\"},\"hoverlabel\":{\"align\":\"left\"},\"hovermode\":\"closest\",\"mapbox\":{\"style\":\"light\"},\"paper_bgcolor\":\"white\",\"plot_bgcolor\":\"#E5ECF6\",\"polar\":{\"angularaxis\":{\"gridcolor\":\"white\",\"linecolor\":\"white\",\"ticks\":\"\"},\"bgcolor\":\"#E5ECF6\",\"radialaxis\":{\"gridcolor\":\"white\",\"linecolor\":\"white\",\"ticks\":\"\"}},\"scene\":{\"xaxis\":{\"backgroundcolor\":\"#E5ECF6\",\"gridcolor\":\"white\",\"gridwidth\":2,\"linecolor\":\"white\",\"showbackground\":true,\"ticks\":\"\",\"zerolinecolor\":\"white\"},\"yaxis\":{\"backgroundcolor\":\"#E5ECF6\",\"gridcolor\":\"white\",\"gridwidth\":2,\"linecolor\":\"white\",\"showbackground\":true,\"ticks\":\"\",\"zerolinecolor\":\"white\"},\"zaxis\":{\"backgroundcolor\":\"#E5ECF6\",\"gridcolor\":\"white\",\"gridwidth\":2,\"linecolor\":\"white\",\"showbackground\":true,\"ticks\":\"\",\"zerolinecolor\":\"white\"}},\"shapedefaults\":{\"line\":{\"color\":\"#2a3f5f\"}},\"ternary\":{\"aaxis\":{\"gridcolor\":\"white\",\"linecolor\":\"white\",\"ticks\":\"\"},\"baxis\":{\"gridcolor\":\"white\",\"linecolor\":\"white\",\"ticks\":\"\"},\"bgcolor\":\"#E5ECF6\",\"caxis\":{\"gridcolor\":\"white\",\"linecolor\":\"white\",\"ticks\":\"\"}},\"title\":{\"x\":0.05},\"xaxis\":{\"automargin\":true,\"gridcolor\":\"white\",\"linecolor\":\"white\",\"ticks\":\"\",\"title\":{\"standoff\":15},\"zerolinecolor\":\"white\",\"zerolinewidth\":2},\"yaxis\":{\"automargin\":true,\"gridcolor\":\"white\",\"linecolor\":\"white\",\"ticks\":\"\",\"title\":{\"standoff\":15},\"zerolinecolor\":\"white\",\"zerolinewidth\":2}}}},                        {\"responsive\": true}                    ).then(function(){\n",
              "                            \n",
              "var gd = document.getElementById('58a5225d-c0f4-458b-81fb-5b1f8c7c6074');\n",
              "var x = new MutationObserver(function (mutations, observer) {{\n",
              "        var display = window.getComputedStyle(gd).display;\n",
              "        if (!display || display === 'none') {{\n",
              "            console.log([gd, 'removed!']);\n",
              "            Plotly.purge(gd);\n",
              "            observer.disconnect();\n",
              "        }}\n",
              "}});\n",
              "\n",
              "// Listen for the removal of the full notebook cells\n",
              "var notebookContainer = gd.closest('#notebook-container');\n",
              "if (notebookContainer) {{\n",
              "    x.observe(notebookContainer, {childList: true});\n",
              "}}\n",
              "\n",
              "// Listen for the clearing of the current output cell\n",
              "var outputEl = gd.closest('.output');\n",
              "if (outputEl) {{\n",
              "    x.observe(outputEl, {childList: true});\n",
              "}}\n",
              "\n",
              "                        })                };                            </script>        </div>\n",
              "</body>\n",
              "</html>"
            ]
          },
          "metadata": {}
        }
      ]
    },
    {
      "cell_type": "code",
      "source": [
        "mol_to_graph('dsgdb9nsd_000719')"
      ],
      "metadata": {
        "id": "--T2kZF1FLw0"
      },
      "execution_count": null,
      "outputs": []
    },
    {
      "cell_type": "markdown",
      "source": [
        "# СATBOOST"
      ],
      "metadata": {
        "id": "UloUqtFtprv7"
      }
    },
    {
      "cell_type": "code",
      "source": [
        "!pip install -q catboost shap"
      ],
      "metadata": {
        "id": "dM94hedylFS3",
        "colab": {
          "base_uri": "https://localhost:8080/"
        },
        "outputId": "f84f4c34-d04a-4104-8080-bf423f26fec9"
      },
      "execution_count": null,
      "outputs": [
        {
          "output_type": "stream",
          "name": "stdout",
          "text": [
            "\u001b[K     |████████████████████████████████| 76.1 MB 1.3 MB/s \n",
            "\u001b[K     |████████████████████████████████| 564 kB 43.2 MB/s \n",
            "\u001b[?25h"
          ]
        }
      ]
    },
    {
      "cell_type": "code",
      "source": [
        "from sklearn.model_selection import train_test_split\n",
        "import matplotlib.pyplot as plt\n",
        "import seaborn as sns\n",
        "import catboost\n",
        "import shap"
      ],
      "metadata": {
        "id": "fcaSvCnMk7Jq"
      },
      "execution_count": null,
      "outputs": []
    },
    {
      "cell_type": "code",
      "source": [
        "df_train.shape, df_test.shape"
      ],
      "metadata": {
        "id": "ajo8U_SdkEjC",
        "colab": {
          "base_uri": "https://localhost:8080/"
        },
        "outputId": "acaf804d-6021-43bd-dfc3-665085ab37c5"
      },
      "execution_count": null,
      "outputs": [
        {
          "output_type": "execute_result",
          "data": {
            "text/plain": [
              "((4658147, 5), (2505542, 4))"
            ]
          },
          "metadata": {},
          "execution_count": 13
        }
      ]
    },
    {
      "cell_type": "markdown",
      "source": [
        "Препроцессинг\n",
        "\n"
      ],
      "metadata": {
        "id": "C6olw_BRG-4Y"
      }
    },
    {
      "cell_type": "code",
      "source": [
        "#Функция мапинга структуры и выборок\n",
        "def mapping_atom_index(df, df1, atom_idx):\n",
        "    atom_idx = str(atom_idx)\n",
        "    df = pd.merge(df, df1,\n",
        "                  left_on  = ['molecule_name', 'atom_index_'+atom_idx],\n",
        "                  right_on = ['molecule_name',  'atom_index'],\n",
        "                 how = 'left')\n",
        "    \n",
        "    df = df.drop('atom_index', axis=1)\n",
        "    cols = list(set(df1.columns) - set(['molecule_name',  'atom_index']))\n",
        "    cols_ren = []\n",
        "    ren = {}\n",
        "    for col in cols:\n",
        "        ren[col] = col + '_' + atom_idx\n",
        "            \n",
        "    df = df.rename(columns=ren)\n",
        "    return df"
      ],
      "metadata": {
        "id": "rI9NNI8DG9eO"
      },
      "execution_count": null,
      "outputs": []
    },
    {
      "cell_type": "code",
      "source": [
        "#Мапим по очереди каждый индекс у атомов на трайне и тесте\n",
        "train_merge = mapping_atom_index(df_train, df_structures, 0)\n",
        "train_merge = mapping_atom_index(train_merge, df_structures, 1)\n",
        "\n",
        "# train_merge = mapping_atom_index(train_merge, df_magnetic_shielding_tensors, 0)\n",
        "# train_merge = mapping_atom_index(train_merge, df_magnetic_shielding_tensors, 1)\n",
        "\n",
        "# train_merge = mapping_atom_index(train_merge, df_mulliken_charges, 0)\n",
        "# train_merge = mapping_atom_index(train_merge, df_mulliken_charges, 1)\n",
        "\n",
        "test_merge = mapping_atom_index(df_test, df_structures, 0)\n",
        "test_merge = mapping_atom_index(test_merge, df_structures, 1)\n",
        "\n",
        "# test_merge = mapping_atom_index(test_merge, df_magnetic_shielding_tensors, 0)\n",
        "# test_merge = mapping_atom_index(test_merge, df_magnetic_shielding_tensors, 1)\n",
        "\n",
        "# test_merge = mapping_atom_index(test_merge, df_mulliken_charges, 0)\n",
        "# test_merge = mapping_atom_index(test_merge, df_mulliken_charges, 1)\n",
        "\n"
      ],
      "metadata": {
        "id": "-Ifr3jHXHShM"
      },
      "execution_count": null,
      "outputs": []
    },
    {
      "cell_type": "code",
      "source": [
        "# train_merge = pd.merge(train_merge, df_dipole_moments, on='molecule_name')\n",
        "# train_merge = pd.merge(train_merge, df_potential_energy, on='molecule_name')\n",
        "\n",
        "# test_merge = pd.merge(test_merge, df_dipole_moments, on='molecule_name')\n",
        "# test_merge = pd.merge(test_merge, df_potential_energy, on='molecule_name')\n",
        "\n",
        "\n",
        "# test_merge = pd.merge(test_merge, \n",
        "#                       df_scalar_coupling_contributions, \n",
        "#                       on=['molecule_name', 'atom_index_0', 'atom_index_1', 'type']\n",
        "#                       )\n",
        "# test_merge = pd.merge(test_merge, \n",
        "#                       df_scalar_coupling_contributions, \n",
        "#                       on=['molecule_name', 'atom_index_0', 'atom_index_1', 'type']\n",
        "#                       )\n"
      ],
      "metadata": {
        "id": "7wZ7QpU-IJ5x"
      },
      "execution_count": null,
      "outputs": []
    },
    {
      "cell_type": "markdown",
      "source": [
        "Функция расчета растояния между атомами по формуле:\n",
        "\n",
        "Distance = $\\sqrt{(x_0-x_1)^{2}+(y_0-y_1)^{2}+(z_0-z_1)^{2})}$\n"
      ],
      "metadata": {
        "id": "wd1sJ7NmS_XT"
      }
    },
    {
      "cell_type": "code",
      "source": [
        "def dist_between_atom(df):\n",
        "    # distance between axis of atom\n",
        "    df['x_dist'] = (df['x_0'] - df['x_1'])**2\n",
        "    df['y_dist'] = (df['y_0'] - df['y_1'])**2\n",
        "    df['z_dist'] = (df['z_0'] - df['z_1'])**2\n",
        "    \n",
        "    # distance between atom\n",
        "    df['atom_dist'] = (df['x_dist']+df['y_dist']+df['z_dist'])**0.5\n",
        "    \n",
        "    return df\n",
        "    \n",
        "train_dist = dist_between_atom(train_merge)\n",
        "test_dist = dist_between_atom(test_merge)"
      ],
      "metadata": {
        "id": "AMz3b2o2Hx6X"
      },
      "execution_count": null,
      "outputs": []
    },
    {
      "cell_type": "code",
      "source": [
        "def get_path_features(molecule_name, atom_index_0, atom_index_1):\n",
        "    path_lengths, dot_sums = np.zeros(len(molecule_name)), np.zeros(len(molecule_name))\n",
        "    for j in range(0, len(molecule_name)):\n",
        "        if j % 100000 == 0: \n",
        "            print(molecule_name[j], atom_index_0[j], atom_index_1[j], j)\n",
        "        G = mol_to_graph(molecule_name[j])\n",
        "        dot_sum = 0\n",
        "        path_length = 0\n",
        "        try:\n",
        "            path = nx.shortest_path(G, source=atom_index_0[j], target=atom_index_1[j])\n",
        "            atoms = {}\n",
        "            for node in path:\n",
        "                atoms[node] = np.array(G.nodes(data=True)[node]['xyz'])\n",
        "            path_length = np.linalg.norm(atoms[path[0]] - atoms[path[1]])\n",
        "            for i in range(1,len(path)-1):\n",
        "                vector_0 = atoms[path[i - 1]] - atoms[path[i]]\n",
        "                vector_1 = atoms[path[i + 1]] - atoms[path[i]]\n",
        "                dot_sum += np.dot(vector_0, vector_1)\n",
        "                path_length += np.linalg.norm(atoms[path[i + 1]] - atoms[path[i]])\n",
        "        except:\n",
        "            pass\n",
        "        finally:\n",
        "            path_lengths[j] = path_length\n",
        "            dot_sums[j] = dot_sum\n",
        "   \n",
        "    return path_lengths, dot_sums\n",
        "\n",
        "def path_features(df):\n",
        "    df['path_length'], df['dot_sum'] = get_path_features(\n",
        "        df['molecule_name'],\n",
        "        df['atom_index_0'],\n",
        "        df['atom_index_1']\n",
        "    )\n",
        "    return df\n",
        "\n",
        "train_path = path_features(train_dist)\n",
        "test_path = path_features(test_dist)"
      ],
      "metadata": {
        "id": "cE3FJa8_IegM"
      },
      "execution_count": null,
      "outputs": []
    },
    {
      "cell_type": "code",
      "source": [
        "#Draw correlation matrix \n",
        "train_corr = train_path.copy()\n",
        "corrmat = train_corr.corr()\n",
        "top_corr_features = corrmat.index[abs(corrmat['scalar_coupling_constant']) >= 0.1]\n",
        "\n",
        "plt.figure(figsize=(10,7))\n",
        "sns.heatmap(train_corr[top_corr_features].corr(), annot=True, cmap=\"RdYlGn\")\n",
        "plt.title('Variable Correlations')\n",
        "plt.show()"
      ],
      "metadata": {
        "colab": {
          "base_uri": "https://localhost:8080/",
          "height": 560
        },
        "id": "QSkVlDqS5KEj",
        "outputId": "88a76e7e-9bba-4357-a37b-9aef40fababb"
      },
      "execution_count": null,
      "outputs": [
        {
          "output_type": "display_data",
          "data": {
            "image/png": "[encoded data removed]",
            "text/plain": [
              "<Figure size 720x504 with 2 Axes>"
            ]
          },
          "metadata": {
            "needs_background": "light"
          }
        }
      ]
    },
    {
      "cell_type": "code",
      "source": [
        "# пока дропнем столбец с названием молекулы, тк 85008 уникальных текстовых значений.\n",
        "train_path.drop(['molecule_name'], axis=1, inplace=True)\n",
        "test_path.drop(['molecule_name'], axis=1, inplace=True)"
      ],
      "metadata": {
        "id": "KjjofnPunBwP"
      },
      "execution_count": null,
      "outputs": []
    },
    {
      "cell_type": "code",
      "source": [
        "# Перенесём целевую переменную в отдельный сет\n",
        "X = train_path.drop(['scalar_coupling_constant'], axis=1)\n",
        "Y = train_path[['scalar_coupling_constant']]\n",
        "print(X.shape, Y.shape)"
      ],
      "metadata": {
        "id": "x8FrOJt0kmLP",
        "colab": {
          "base_uri": "https://localhost:8080/"
        },
        "outputId": "69ac2ae3-2e81-4a02-c1fe-f47ed3e6e6f5"
      },
      "execution_count": null,
      "outputs": [
        {
          "output_type": "stream",
          "name": "stdout",
          "text": [
            "(4658147, 15) (4658147, 1)\n"
          ]
        }
      ]
    },
    {
      "cell_type": "code",
      "source": [
        "# Разобьём X на train и validation подвыборки.\n",
        "X_train, X_eval, Y_train, Y_eval = train_test_split(X, Y, train_size=0.75, random_state=1337, shuffle=True)"
      ],
      "metadata": {
        "id": "j98m6M8ak6fx"
      },
      "execution_count": null,
      "outputs": []
    },
    {
      "cell_type": "code",
      "source": [
        "# по размерам валидационная и тестовая выборки непохожи, пока пофиг\n",
        "print(X_train.shape, X_eval.shape, Y_train.shape, Y_eval.shape, test_dist.shape)"
      ],
      "metadata": {
        "id": "RjVxMm9klalr",
        "colab": {
          "base_uri": "https://localhost:8080/"
        },
        "outputId": "1a469ef3-b0f3-4192-babc-83e559b81843"
      },
      "execution_count": null,
      "outputs": [
        {
          "output_type": "stream",
          "name": "stdout",
          "text": [
            "(3493610, 15) (1164537, 15) (3493610, 1) (1164537, 1) (2505542, 15)\n"
          ]
        }
      ]
    },
    {
      "cell_type": "code",
      "source": [
        "# cat_features=['atom_index_0', 'atom_index_1', 'type']\n",
        "# X_train.nunique()"
      ],
      "metadata": {
        "id": "xvpcWUodl77f"
      },
      "execution_count": null,
      "outputs": []
    },
    {
      "cell_type": "code",
      "source": [
        "# Создание пулов выборок\n",
        "train_pool = catboost.Pool(X_train, label=Y_train, cat_features=cat_features)\n",
        "eval_pool = catboost.Pool(X_eval, label=Y_eval, cat_features=cat_features)\n",
        "test_pool = catboost.Pool(test_dist, cat_features=cat_features)"
      ],
      "metadata": {
        "id": "T6TDfGYUlmCV"
      },
      "execution_count": null,
      "outputs": []
    },
    {
      "cell_type": "code",
      "source": [
        "cbr = catboost.CatBoostRegressor(\n",
        "                                 metric_period = 100,\n",
        "                                #  iterations=10000,\n",
        "                                 random_seed=1337,\n",
        "                                 task_type='GPU',\n",
        "                                 use_best_model=True,\n",
        "                                 loss_function='MAE'\n",
        "                                 )\n",
        "cbr.fit(train_pool, eval_set=eval_pool)"
      ],
      "metadata": {
        "id": "G8fZKBgXo9uq",
        "colab": {
          "base_uri": "https://localhost:8080/"
        },
        "outputId": "78969c42-8d40-4d4e-b176-745b99caa169"
      },
      "execution_count": null,
      "outputs": [
        {
          "output_type": "stream",
          "name": "stdout",
          "text": [
            "0:\tlearn: 17.4253062\ttest: 17.4504305\tbest: 17.4504305 (0)\ttotal: 200ms\tremaining: 33m 16s\n",
            "100:\tlearn: 3.5523679\ttest: 3.5623765\tbest: 3.5623765 (100)\ttotal: 18.1s\tremaining: 29m 37s\n",
            "200:\tlearn: 2.7879869\ttest: 2.7988460\tbest: 2.7988460 (200)\ttotal: 36.6s\tremaining: 29m 43s\n",
            "300:\tlearn: 2.6927001\ttest: 2.7037396\tbest: 2.7037396 (300)\ttotal: 56s\tremaining: 30m 4s\n",
            "400:\tlearn: 2.6469635\ttest: 2.6583097\tbest: 2.6583097 (400)\ttotal: 1m 15s\tremaining: 30m 11s\n",
            "500:\tlearn: 2.6130624\ttest: 2.6246682\tbest: 2.6246682 (500)\ttotal: 1m 35s\tremaining: 30m 19s\n",
            "600:\tlearn: 2.5847087\ttest: 2.5964248\tbest: 2.5964248 (600)\ttotal: 1m 55s\tremaining: 30m 1s\n",
            "700:\tlearn: 2.5618312\ttest: 2.5736617\tbest: 2.5736617 (700)\ttotal: 2m 14s\tremaining: 29m 43s\n",
            "800:\tlearn: 2.5434988\ttest: 2.5554407\tbest: 2.5554407 (800)\ttotal: 2m 33s\tremaining: 29m 22s\n",
            "900:\tlearn: 2.5253468\ttest: 2.5372925\tbest: 2.5372925 (900)\ttotal: 2m 52s\tremaining: 29m 1s\n",
            "1000:\tlearn: 2.5113871\ttest: 2.5235664\tbest: 2.5235664 (1000)\ttotal: 3m 11s\tremaining: 28m 43s\n",
            "1100:\tlearn: 2.4966032\ttest: 2.5090472\tbest: 2.5090472 (1100)\ttotal: 3m 31s\tremaining: 28m 25s\n",
            "1200:\tlearn: 2.4826978\ttest: 2.4952870\tbest: 2.4952870 (1200)\ttotal: 3m 50s\tremaining: 28m 5s\n",
            "1300:\tlearn: 2.4693423\ttest: 2.4820442\tbest: 2.4820442 (1300)\ttotal: 4m 9s\tremaining: 27m 47s\n",
            "1400:\tlearn: 2.4594560\ttest: 2.4722422\tbest: 2.4722422 (1400)\ttotal: 4m 28s\tremaining: 27m 29s\n",
            "1500:\tlearn: 2.4493601\ttest: 2.4623333\tbest: 2.4623333 (1500)\ttotal: 4m 48s\tremaining: 27m 11s\n",
            "1600:\tlearn: 2.4410807\ttest: 2.4541116\tbest: 2.4541116 (1600)\ttotal: 5m 7s\tremaining: 26m 52s\n",
            "1700:\tlearn: 2.4334605\ttest: 2.4465468\tbest: 2.4465468 (1700)\ttotal: 5m 26s\tremaining: 26m 33s\n",
            "1800:\tlearn: 2.4263286\ttest: 2.4394575\tbest: 2.4394575 (1800)\ttotal: 5m 45s\tremaining: 26m 15s\n",
            "1900:\tlearn: 2.4190267\ttest: 2.4321707\tbest: 2.4321707 (1900)\ttotal: 6m 5s\tremaining: 25m 56s\n",
            "2000:\tlearn: 2.4126966\ttest: 2.4259010\tbest: 2.4259010 (2000)\ttotal: 6m 24s\tremaining: 25m 38s\n",
            "2100:\tlearn: 2.4074055\ttest: 2.4206635\tbest: 2.4206635 (2100)\ttotal: 6m 44s\tremaining: 25m 19s\n",
            "2200:\tlearn: 2.4017263\ttest: 2.4150770\tbest: 2.4150770 (2200)\ttotal: 7m 3s\tremaining: 24m 59s\n",
            "2300:\tlearn: 2.3959685\ttest: 2.4094181\tbest: 2.4094181 (2300)\ttotal: 7m 22s\tremaining: 24m 40s\n",
            "2400:\tlearn: 2.3912978\ttest: 2.4048789\tbest: 2.4048789 (2400)\ttotal: 7m 42s\tremaining: 24m 22s\n",
            "2500:\tlearn: 2.3867883\ttest: 2.4004592\tbest: 2.4004592 (2500)\ttotal: 8m 1s\tremaining: 24m 3s\n",
            "2600:\tlearn: 2.3824676\ttest: 2.3962487\tbest: 2.3962487 (2600)\ttotal: 8m 20s\tremaining: 23m 44s\n",
            "2700:\tlearn: 2.3773054\ttest: 2.3911046\tbest: 2.3911046 (2700)\ttotal: 8m 39s\tremaining: 23m 24s\n",
            "2800:\tlearn: 2.3724380\ttest: 2.3863443\tbest: 2.3863443 (2800)\ttotal: 8m 59s\tremaining: 23m 6s\n",
            "2900:\tlearn: 2.3684909\ttest: 2.3825117\tbest: 2.3825117 (2900)\ttotal: 9m 18s\tremaining: 22m 46s\n",
            "3000:\tlearn: 2.3644132\ttest: 2.3785075\tbest: 2.3785075 (3000)\ttotal: 9m 37s\tremaining: 22m 27s\n",
            "3100:\tlearn: 2.3605862\ttest: 2.3747764\tbest: 2.3747764 (3100)\ttotal: 9m 57s\tremaining: 22m 9s\n",
            "3200:\tlearn: 2.3571775\ttest: 2.3714519\tbest: 2.3714519 (3200)\ttotal: 10m 16s\tremaining: 21m 50s\n",
            "3300:\tlearn: 2.3536213\ttest: 2.3680209\tbest: 2.3680209 (3300)\ttotal: 10m 36s\tremaining: 21m 31s\n",
            "3400:\tlearn: 2.3494702\ttest: 2.3639537\tbest: 2.3639537 (3400)\ttotal: 10m 55s\tremaining: 21m 12s\n",
            "3500:\tlearn: 2.3461126\ttest: 2.3606860\tbest: 2.3606860 (3500)\ttotal: 11m 15s\tremaining: 20m 53s\n",
            "3600:\tlearn: 2.3423469\ttest: 2.3569878\tbest: 2.3569878 (3600)\ttotal: 11m 34s\tremaining: 20m 33s\n",
            "3700:\tlearn: 2.3388130\ttest: 2.3535708\tbest: 2.3535708 (3700)\ttotal: 11m 53s\tremaining: 20m 14s\n",
            "3800:\tlearn: 2.3351028\ttest: 2.3500037\tbest: 2.3500037 (3800)\ttotal: 12m 13s\tremaining: 19m 55s\n",
            "3900:\tlearn: 2.3318390\ttest: 2.3468250\tbest: 2.3468250 (3900)\ttotal: 12m 32s\tremaining: 19m 36s\n",
            "4000:\tlearn: 2.3288577\ttest: 2.3439494\tbest: 2.3439494 (4000)\ttotal: 12m 52s\tremaining: 19m 17s\n",
            "4100:\tlearn: 2.3251844\ttest: 2.3404383\tbest: 2.3404383 (4100)\ttotal: 13m 11s\tremaining: 18m 58s\n",
            "4200:\tlearn: 2.3224490\ttest: 2.3378682\tbest: 2.3378682 (4200)\ttotal: 13m 30s\tremaining: 18m 39s\n",
            "4300:\tlearn: 2.3196556\ttest: 2.3352010\tbest: 2.3352010 (4300)\ttotal: 13m 50s\tremaining: 18m 20s\n",
            "4400:\tlearn: 2.3168692\ttest: 2.3325038\tbest: 2.3325038 (4400)\ttotal: 14m 9s\tremaining: 18m\n",
            "4500:\tlearn: 2.3143244\ttest: 2.3300885\tbest: 2.3300885 (4500)\ttotal: 14m 29s\tremaining: 17m 41s\n",
            "4600:\tlearn: 2.3113851\ttest: 2.3272835\tbest: 2.3272835 (4600)\ttotal: 14m 48s\tremaining: 17m 22s\n",
            "4700:\tlearn: 2.3086634\ttest: 2.3246827\tbest: 2.3246827 (4700)\ttotal: 15m 8s\tremaining: 17m 3s\n",
            "4800:\tlearn: 2.3061349\ttest: 2.3223051\tbest: 2.3223051 (4800)\ttotal: 15m 27s\tremaining: 16m 44s\n",
            "4900:\tlearn: 2.3036824\ttest: 2.3199546\tbest: 2.3199546 (4900)\ttotal: 15m 47s\tremaining: 16m 25s\n",
            "5000:\tlearn: 2.3012152\ttest: 2.3176230\tbest: 2.3176230 (5000)\ttotal: 16m 6s\tremaining: 16m 6s\n",
            "5100:\tlearn: 2.2988153\ttest: 2.3153270\tbest: 2.3153270 (5100)\ttotal: 16m 26s\tremaining: 15m 47s\n",
            "5200:\tlearn: 2.2964716\ttest: 2.3131006\tbest: 2.3131006 (5200)\ttotal: 16m 45s\tremaining: 15m 27s\n",
            "5300:\tlearn: 2.2941479\ttest: 2.3108901\tbest: 2.3108901 (5300)\ttotal: 17m 4s\tremaining: 15m 8s\n",
            "5400:\tlearn: 2.2917353\ttest: 2.3086147\tbest: 2.3086147 (5400)\ttotal: 17m 24s\tremaining: 14m 49s\n",
            "5500:\tlearn: 2.2895436\ttest: 2.3065446\tbest: 2.3065446 (5500)\ttotal: 17m 43s\tremaining: 14m 30s\n",
            "5600:\tlearn: 2.2872919\ttest: 2.3044345\tbest: 2.3044345 (5600)\ttotal: 18m 3s\tremaining: 14m 10s\n",
            "5700:\tlearn: 2.2849660\ttest: 2.3022517\tbest: 2.3022517 (5700)\ttotal: 18m 23s\tremaining: 13m 51s\n",
            "5800:\tlearn: 2.2830790\ttest: 2.3004829\tbest: 2.3004829 (5800)\ttotal: 18m 42s\tremaining: 13m 32s\n",
            "5900:\tlearn: 2.2810820\ttest: 2.2985878\tbest: 2.2985878 (5900)\ttotal: 19m 2s\tremaining: 13m 13s\n",
            "6000:\tlearn: 2.2789926\ttest: 2.2966426\tbest: 2.2966426 (6000)\ttotal: 19m 21s\tremaining: 12m 54s\n",
            "6100:\tlearn: 2.2769811\ttest: 2.2947817\tbest: 2.2947817 (6100)\ttotal: 19m 40s\tremaining: 12m 34s\n",
            "6200:\tlearn: 2.2749424\ttest: 2.2928756\tbest: 2.2928756 (6200)\ttotal: 20m\tremaining: 12m 15s\n",
            "6300:\tlearn: 2.2731420\ttest: 2.2912151\tbest: 2.2912151 (6300)\ttotal: 20m 19s\tremaining: 11m 56s\n",
            "6400:\tlearn: 2.2712833\ttest: 2.2894942\tbest: 2.2894942 (6400)\ttotal: 20m 39s\tremaining: 11m 36s\n",
            "6500:\tlearn: 2.2696324\ttest: 2.2879958\tbest: 2.2879958 (6500)\ttotal: 20m 58s\tremaining: 11m 17s\n",
            "6600:\tlearn: 2.2677611\ttest: 2.2862427\tbest: 2.2862427 (6600)\ttotal: 21m 18s\tremaining: 10m 58s\n",
            "6700:\tlearn: 2.2660274\ttest: 2.2846490\tbest: 2.2846490 (6700)\ttotal: 21m 37s\tremaining: 10m 38s\n",
            "6800:\tlearn: 2.2645934\ttest: 2.2833025\tbest: 2.2833025 (6800)\ttotal: 21m 56s\tremaining: 10m 19s\n",
            "6900:\tlearn: 2.2628961\ttest: 2.2817120\tbest: 2.2817120 (6900)\ttotal: 22m 16s\tremaining: 10m\n",
            "7000:\tlearn: 2.2611924\ttest: 2.2801229\tbest: 2.2801229 (7000)\ttotal: 22m 35s\tremaining: 9m 40s\n",
            "7100:\tlearn: 2.2597595\ttest: 2.2787797\tbest: 2.2787797 (7100)\ttotal: 22m 55s\tremaining: 9m 21s\n",
            "7200:\tlearn: 2.2583391\ttest: 2.2775107\tbest: 2.2775107 (7200)\ttotal: 23m 15s\tremaining: 9m 2s\n",
            "7300:\tlearn: 2.2564370\ttest: 2.2757523\tbest: 2.2757523 (7300)\ttotal: 23m 37s\tremaining: 8m 43s\n",
            "7400:\tlearn: 2.2547966\ttest: 2.2742304\tbest: 2.2742304 (7400)\ttotal: 23m 57s\tremaining: 8m 24s\n",
            "7500:\tlearn: 2.2533195\ttest: 2.2728881\tbest: 2.2728881 (7500)\ttotal: 24m 16s\tremaining: 8m 5s\n",
            "7600:\tlearn: 2.2519073\ttest: 2.2715888\tbest: 2.2715888 (7600)\ttotal: 24m 36s\tremaining: 7m 45s\n",
            "7700:\tlearn: 2.2503096\ttest: 2.2701183\tbest: 2.2701183 (7700)\ttotal: 24m 55s\tremaining: 7m 26s\n",
            "7800:\tlearn: 2.2490003\ttest: 2.2689397\tbest: 2.2689397 (7800)\ttotal: 25m 15s\tremaining: 7m 7s\n",
            "7900:\tlearn: 2.2473263\ttest: 2.2673754\tbest: 2.2673754 (7900)\ttotal: 25m 35s\tremaining: 6m 47s\n",
            "8000:\tlearn: 2.2456579\ttest: 2.2658147\tbest: 2.2658147 (8000)\ttotal: 25m 54s\tremaining: 6m 28s\n",
            "8100:\tlearn: 2.2442873\ttest: 2.2645530\tbest: 2.2645530 (8100)\ttotal: 26m 14s\tremaining: 6m 9s\n",
            "8200:\tlearn: 2.2428454\ttest: 2.2632362\tbest: 2.2632362 (8200)\ttotal: 26m 33s\tremaining: 5m 49s\n",
            "8300:\tlearn: 2.2413722\ttest: 2.2618704\tbest: 2.2618704 (8300)\ttotal: 26m 53s\tremaining: 5m 30s\n",
            "8400:\tlearn: 2.2401148\ttest: 2.2607309\tbest: 2.2607309 (8400)\ttotal: 27m 12s\tremaining: 5m 10s\n",
            "8500:\tlearn: 2.2389388\ttest: 2.2596562\tbest: 2.2596562 (8500)\ttotal: 27m 31s\tremaining: 4m 51s\n",
            "8600:\tlearn: 2.2376505\ttest: 2.2584707\tbest: 2.2584707 (8600)\ttotal: 27m 51s\tremaining: 4m 31s\n",
            "8700:\tlearn: 2.2361486\ttest: 2.2570975\tbest: 2.2570975 (8700)\ttotal: 28m 10s\tremaining: 4m 12s\n",
            "8800:\tlearn: 2.2348051\ttest: 2.2558555\tbest: 2.2558555 (8800)\ttotal: 28m 30s\tremaining: 3m 52s\n",
            "8900:\tlearn: 2.2335475\ttest: 2.2546999\tbest: 2.2546999 (8900)\ttotal: 28m 49s\tremaining: 3m 33s\n",
            "9000:\tlearn: 2.2322243\ttest: 2.2534937\tbest: 2.2534937 (9000)\ttotal: 29m 9s\tremaining: 3m 14s\n",
            "9100:\tlearn: 2.2309703\ttest: 2.2523378\tbest: 2.2523378 (9100)\ttotal: 29m 28s\tremaining: 2m 54s\n",
            "9200:\tlearn: 2.2295484\ttest: 2.2510225\tbest: 2.2510225 (9200)\ttotal: 29m 48s\tremaining: 2m 35s\n",
            "9300:\tlearn: 2.2284222\ttest: 2.2500228\tbest: 2.2500228 (9300)\ttotal: 30m 7s\tremaining: 2m 15s\n",
            "9400:\tlearn: 2.2272533\ttest: 2.2489695\tbest: 2.2489695 (9400)\ttotal: 30m 27s\tremaining: 1m 56s\n",
            "9500:\tlearn: 2.2261558\ttest: 2.2479655\tbest: 2.2479655 (9500)\ttotal: 30m 46s\tremaining: 1m 36s\n",
            "9600:\tlearn: 2.2248926\ttest: 2.2467813\tbest: 2.2467813 (9600)\ttotal: 31m 6s\tremaining: 1m 17s\n",
            "9700:\tlearn: 2.2238621\ttest: 2.2458591\tbest: 2.2458591 (9700)\ttotal: 31m 25s\tremaining: 58.1s\n",
            "9800:\tlearn: 2.2228181\ttest: 2.2449257\tbest: 2.2449257 (9800)\ttotal: 31m 45s\tremaining: 38.7s\n",
            "9900:\tlearn: 2.2217582\ttest: 2.2439628\tbest: 2.2439628 (9900)\ttotal: 32m 5s\tremaining: 19.2s\n",
            "9999:\tlearn: 2.2206417\ttest: 2.2429390\tbest: 2.2429390 (9999)\ttotal: 32m 24s\tremaining: 0us\n",
            "bestTest = 2.242939039\n",
            "bestIteration = 9999\n"
          ]
        },
        {
          "output_type": "execute_result",
          "data": {
            "text/plain": [
              "<catboost.core.CatBoostRegressor at 0x7f08598f7ed0>"
            ]
          },
          "metadata": {},
          "execution_count": 77
        }
      ]
    },
    {
      "cell_type": "code",
      "source": [
        "# Отрисуем графики обучения\n",
        "hist = cbr.get_evals_result()\n",
        "plt.plot(list(hist['learn'].values())[0], label= 'train', alpha=0.7)\n",
        "plt.plot(list(hist['validation'].values())[0], label = 'eval', alpha=0.7)\n",
        "plt.ylabel('loss')\n",
        "plt.xlabel('iterations')\n",
        "plt.legend()\n",
        "plt.show()"
      ],
      "metadata": {
        "id": "B5ptjNQrrERo",
        "colab": {
          "base_uri": "https://localhost:8080/",
          "height": 281
        },
        "outputId": "a002a759-d5d5-4a5e-e8a1-b465f4401ad7"
      },
      "execution_count": null,
      "outputs": [
        {
          "output_type": "display_data",
          "data": {
            "image/png": "[encoded data removed]",
            "text/plain": [
              "<Figure size 432x288 with 1 Axes>"
            ]
          },
          "metadata": {
            "needs_background": "light"
          }
        }
      ]
    },
    {
      "cell_type": "code",
      "source": [
        "# Предсказываем значения по тестовой выборке.\n",
        "Y_test = cbr.predict(test_pool)"
      ],
      "metadata": {
        "id": "ROliv0VxrNey"
      },
      "execution_count": null,
      "outputs": []
    },
    {
      "cell_type": "code",
      "source": [
        "df_submission = df_test.drop(['molecule_name',\t'atom_index_0',\t'atom_index_1',\t'type'], axis=1)\n",
        "df_submission['scalar_coupling_constant'] = Y_test\n",
        "df_submission"
      ],
      "metadata": {
        "id": "qU62lSU92IyT",
        "colab": {
          "base_uri": "https://localhost:8080/",
          "height": 455
        },
        "outputId": "3f881a83-6dd0-42e9-abd9-25063fd676f0"
      },
      "execution_count": null,
      "outputs": [
        {
          "output_type": "execute_result",
          "data": {
            "text/html": [
              "\n",
              "  <div id=\"df-a2fdbc47-8e3a-4ce1-9187-5475372e77e8\">\n",
              "    <div class=\"colab-df-container\">\n",
              "      <div>\n",
              "<style scoped>\n",
              "    .dataframe tbody tr th:only-of-type {\n",
              "        vertical-align: middle;\n",
              "    }\n",
              "\n",
              "    .dataframe tbody tr th {\n",
              "        vertical-align: top;\n",
              "    }\n",
              "\n",
              "    .dataframe thead th {\n",
              "        text-align: right;\n",
              "    }\n",
              "</style>\n",
              "<table border=\"1\" class=\"dataframe\">\n",
              "  <thead>\n",
              "    <tr style=\"text-align: right;\">\n",
              "      <th></th>\n",
              "      <th>scalar_coupling_constant</th>\n",
              "    </tr>\n",
              "    <tr>\n",
              "      <th>id</th>\n",
              "      <th></th>\n",
              "    </tr>\n",
              "  </thead>\n",
              "  <tbody>\n",
              "    <tr>\n",
              "      <th>4658147</th>\n",
              "      <td>0.862447</td>\n",
              "    </tr>\n",
              "    <tr>\n",
              "      <th>4658148</th>\n",
              "      <td>4.948457</td>\n",
              "    </tr>\n",
              "    <tr>\n",
              "      <th>4658149</th>\n",
              "      <td>-0.400328</td>\n",
              "    </tr>\n",
              "    <tr>\n",
              "      <th>4658150</th>\n",
              "      <td>89.262087</td>\n",
              "    </tr>\n",
              "    <tr>\n",
              "      <th>4658151</th>\n",
              "      <td>-0.462772</td>\n",
              "    </tr>\n",
              "    <tr>\n",
              "      <th>...</th>\n",
              "      <td>...</td>\n",
              "    </tr>\n",
              "    <tr>\n",
              "      <th>7163684</th>\n",
              "      <td>1.707770</td>\n",
              "    </tr>\n",
              "    <tr>\n",
              "      <th>7163685</th>\n",
              "      <td>4.190703</td>\n",
              "    </tr>\n",
              "    <tr>\n",
              "      <th>7163686</th>\n",
              "      <td>4.842920</td>\n",
              "    </tr>\n",
              "    <tr>\n",
              "      <th>7163687</th>\n",
              "      <td>6.277956</td>\n",
              "    </tr>\n",
              "    <tr>\n",
              "      <th>7163688</th>\n",
              "      <td>110.381736</td>\n",
              "    </tr>\n",
              "  </tbody>\n",
              "</table>\n",
              "<p>2505542 rows × 1 columns</p>\n",
              "</div>\n",
              "      <button class=\"colab-df-convert\" onclick=\"convertToInteractive('df-a2fdbc47-8e3a-4ce1-9187-5475372e77e8')\"\n",
              "              title=\"Convert this dataframe to an interactive table.\"\n",
              "              style=\"display:none;\">\n",
              "        \n",
              "  <svg xmlns=\"http://www.w3.org/2000/svg\" height=\"24px\"viewBox=\"0 0 24 24\"\n",
              "       width=\"24px\">\n",
              "    <path d=\"M0 0h24v24H0V0z\" fill=\"none\"/>\n",
              "    <path d=\"M18.56 5.44l.94 2.06.94-2.06 2.06-.94-2.06-.94-.94-2.06-.94 2.06-2.06.94zm-11 1L8.5 8.5l.94-2.06 2.06-.94-2.06-.94L8.5 2.5l-.94 2.06-2.06.94zm10 10l.94 2.06.94-2.06 2.06-.94-2.06-.94-.94-2.06-.94 2.06-2.06.94z\"/><path d=\"M17.41 7.96l-1.37-1.37c-.4-.4-.92-.59-1.43-.59-.52 0-1.04.2-1.43.59L10.3 9.45l-7.72 7.72c-.78.78-.78 2.05 0 2.83L4 21.41c.39.39.9.59 1.41.59.51 0 1.02-.2 1.41-.59l7.78-7.78 2.81-2.81c.8-.78.8-2.07 0-2.86zM5.41 20L4 18.59l7.72-7.72 1.47 1.35L5.41 20z\"/>\n",
              "  </svg>\n",
              "      </button>\n",
              "      \n",
              "  <style>\n",
              "    .colab-df-container {\n",
              "      display:flex;\n",
              "      flex-wrap:wrap;\n",
              "      gap: 12px;\n",
              "    }\n",
              "\n",
              "    .colab-df-convert {\n",
              "      background-color: #E8F0FE;\n",
              "      border: none;\n",
              "      border-radius: 50%;\n",
              "      cursor: pointer;\n",
              "      display: none;\n",
              "      fill: #1967D2;\n",
              "      height: 32px;\n",
              "      padding: 0 0 0 0;\n",
              "      width: 32px;\n",
              "    }\n",
              "\n",
              "    .colab-df-convert:hover {\n",
              "      background-color: #E2EBFA;\n",
              "      box-shadow: 0px 1px 2px rgba(60, 64, 67, 0.3), 0px 1px 3px 1px rgba(60, 64, 67, 0.15);\n",
              "      fill: #174EA6;\n",
              "    }\n",
              "\n",
              "    [theme=dark] .colab-df-convert {\n",
              "      background-color: #3B4455;\n",
              "      fill: #D2E3FC;\n",
              "    }\n",
              "\n",
              "    [theme=dark] .colab-df-convert:hover {\n",
              "      background-color: #434B5C;\n",
              "      box-shadow: 0px 1px 3px 1px rgba(0, 0, 0, 0.15);\n",
              "      filter: drop-shadow(0px 1px 2px rgba(0, 0, 0, 0.3));\n",
              "      fill: #FFFFFF;\n",
              "    }\n",
              "  </style>\n",
              "\n",
              "      <script>\n",
              "        const buttonEl =\n",
              "          document.querySelector('#df-a2fdbc47-8e3a-4ce1-9187-5475372e77e8 button.colab-df-convert');\n",
              "        buttonEl.style.display =\n",
              "          google.colab.kernel.accessAllowed ? 'block' : 'none';\n",
              "\n",
              "        async function convertToInteractive(key) {\n",
              "          const element = document.querySelector('#df-a2fdbc47-8e3a-4ce1-9187-5475372e77e8');\n",
              "          const dataTable =\n",
              "            await google.colab.kernel.invokeFunction('convertToInteractive',\n",
              "                                                     [key], {});\n",
              "          if (!dataTable) return;\n",
              "\n",
              "          const docLinkHtml = 'Like what you see? Visit the ' +\n",
              "            '<a target=\"_blank\" href=https://colab.research.google.com/notebooks/data_table.ipynb>data table notebook</a>'\n",
              "            + ' to learn more about interactive tables.';\n",
              "          element.innerHTML = '';\n",
              "          dataTable['output_type'] = 'display_data';\n",
              "          await google.colab.output.renderOutput(dataTable, element);\n",
              "          const docLink = document.createElement('div');\n",
              "          docLink.innerHTML = docLinkHtml;\n",
              "          element.appendChild(docLink);\n",
              "        }\n",
              "      </script>\n",
              "    </div>\n",
              "  </div>\n",
              "  "
            ],
            "text/plain": [
              "         scalar_coupling_constant\n",
              "id                               \n",
              "4658147                  0.862447\n",
              "4658148                  4.948457\n",
              "4658149                 -0.400328\n",
              "4658150                 89.262087\n",
              "4658151                 -0.462772\n",
              "...                           ...\n",
              "7163684                  1.707770\n",
              "7163685                  4.190703\n",
              "7163686                  4.842920\n",
              "7163687                  6.277956\n",
              "7163688                110.381736\n",
              "\n",
              "[2505542 rows x 1 columns]"
            ]
          },
          "metadata": {},
          "execution_count": 90
        }
      ]
    },
    {
      "cell_type": "code",
      "source": [
        "# Добиваем сабмита до требуемого размера. (первая попытка решить проблему загрузки задания на Kagle)\n",
        "# need_rows = 2505542\n",
        "# while len(df_submission) < need_rows:\n",
        "#   df_submission.loc[df_submission.index.max()+1] = 0\n",
        "# print(len(df_submission))"
      ],
      "metadata": {
        "id": "7QZdFylFD1I8"
      },
      "execution_count": null,
      "outputs": []
    },
    {
      "cell_type": "code",
      "source": [
        "df_submission.to_csv('submission.csv')"
      ],
      "metadata": {
        "id": "zKWUzWyur5Wn"
      },
      "execution_count": null,
      "outputs": []
    },
    {
      "cell_type": "code",
      "source": [
        "# сабмитим результат\n",
        "!kaggle competitions submit -c champs-scalar-coupling -f submission.csv -m \"catboost with mae\""
      ],
      "metadata": {
        "id": "HBTrBCs-r9Ir",
        "colab": {
          "base_uri": "https://localhost:8080/"
        },
        "outputId": "0ab5064c-8728-4bf0-a57e-b13d8a65dea1"
      },
      "execution_count": null,
      "outputs": [
        {
          "output_type": "stream",
          "name": "stdout",
          "text": [
            "100% 64.0M/64.0M [00:01<00:00, 59.3MB/s]\n",
            "Successfully submitted to Predicting Molecular Properties"
          ]
        }
      ]
    }
  ]
}